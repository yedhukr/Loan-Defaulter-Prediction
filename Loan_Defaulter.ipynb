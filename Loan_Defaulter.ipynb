{
  "nbformat": 4,
  "nbformat_minor": 0,
  "metadata": {
    "kernelspec": {
      "display_name": "Python 3",
      "language": "python",
      "name": "python3"
    },
    "language_info": {
      "codemirror_mode": {
        "name": "ipython",
        "version": 3
      },
      "file_extension": ".py",
      "mimetype": "text/x-python",
      "name": "python",
      "nbconvert_exporter": "python",
      "pygments_lexer": "ipython3",
      "version": "3.7.6"
    },
    "colab": {
      "name": "DSP_Loan_Defaulter.ipynb",
      "provenance": [],
      "collapsed_sections": [
        "5st1Ku-JYhpr",
        "zT-W0hD2Yhp4",
        "0z-w3IWBYhqY",
        "DM2rQM_rYhtF",
        "XdeUdno1YhtS",
        "K6XXKLcGYhtb",
        "8_2X9sGqYhtt",
        "h4iAHIVmYht4",
        "lImGXckUYhuB",
        "TapoVrHUYhuR",
        "zBK68_1VYhuq",
        "wW0BqWrQYhuy",
        "4Xz9PlQQYhuz",
        "r73FAmv5Yhu_",
        "sI3BgdqOYhvI",
        "P3vvrbbGYhvc",
        "PEE4ORJ2Yhvj",
        "sxT2Js7HYhvp",
        "lu7sj0QJYhvq",
        "JVQCdg7dYhwU"
      ],
      "toc_visible": true,
      "include_colab_link": true
    }
  },
  "cells": [
    {
      "cell_type": "markdown",
      "metadata": {
        "id": "view-in-github",
        "colab_type": "text"
      },
      "source": [
        "<a href=\"https://colab.research.google.com/github/yedhukr/Loan-Defaulter-Prediction/blob/master/Loan_Defaulter.ipynb\" target=\"_parent\"><img src=\"https://colab.research.google.com/assets/colab-badge.svg\" alt=\"Open In Colab\"/></a>"
      ]
    },
    {
      "cell_type": "markdown",
      "metadata": {
        "id": "5st1Ku-JYhpr",
        "colab_type": "text"
      },
      "source": [
        "## Importing Libraries and Loading Dataset "
      ]
    },
    {
      "cell_type": "code",
      "metadata": {
        "id": "n9-CRuvGYhps",
        "colab_type": "code",
        "colab": {
          "base_uri": "https://localhost:8080/",
          "height": 55
        },
        "outputId": "8589c501-f8c4-42c3-e9b7-c59a4f6d063e"
      },
      "source": [
        "import pandas as pd\n",
        "import datetime as dt\n",
        "import numpy as np\n",
        "import matplotlib.pyplot as plt \n",
        "import seaborn as sns\n",
        "import warnings\n",
        "warnings.filterwarnings('ignore')\n",
        "\n",
        "from google.colab import drive\n",
        "drive.mount(\"/content/drive\")"
      ],
      "execution_count": null,
      "outputs": [
        {
          "output_type": "stream",
          "text": [
            "Drive already mounted at /content/drive; to attempt to forcibly remount, call drive.mount(\"/content/drive\", force_remount=True).\n"
          ],
          "name": "stdout"
        }
      ]
    },
    {
      "cell_type": "code",
      "metadata": {
        "id": "sCQXqdueYhpy",
        "colab_type": "code",
        "colab": {}
      },
      "source": [
        "loan_credit = pd.read_csv('/content/drive/My Drive/Projects/Bank_Lending/XYZLoanData.txt',sep = '\\t',na_values = 'NaN',low_memory = False)"
      ],
      "execution_count": null,
      "outputs": []
    },
    {
      "cell_type": "markdown",
      "metadata": {
        "id": "zT-W0hD2Yhp4",
        "colab_type": "text"
      },
      "source": [
        "## Initial Analysis"
      ]
    },
    {
      "cell_type": "markdown",
      "metadata": {
        "id": "UtnDpuom9Rmv",
        "colab_type": "text"
      },
      "source": [
        "### Basics"
      ]
    },
    {
      "cell_type": "code",
      "metadata": {
        "id": "5a-4ORfCYhp5",
        "colab_type": "code",
        "colab": {
          "base_uri": "https://localhost:8080/"
        },
        "outputId": "cc4f4405-5fb0-45ad-c52b-0baf6cab8c08"
      },
      "source": [
        "loan_df = loan_credit\n",
        "loan_df.shape"
      ],
      "execution_count": null,
      "outputs": [
        {
          "output_type": "execute_result",
          "data": {
            "text/plain": [
              "(855969, 73)"
            ]
          },
          "metadata": {
            "tags": []
          },
          "execution_count": 230
        }
      ]
    },
    {
      "cell_type": "code",
      "metadata": {
        "id": "Xmog4jjkYhp-",
        "colab_type": "code",
        "colab": {
          "base_uri": "https://localhost:8080/"
        },
        "outputId": "04c24ce9-663d-4372-9ed5-5b0d1f83a534"
      },
      "source": [
        "loan_df.info()"
      ],
      "execution_count": null,
      "outputs": [
        {
          "output_type": "stream",
          "text": [
            "<class 'pandas.core.frame.DataFrame'>\n",
            "RangeIndex: 855969 entries, 0 to 855968\n",
            "Data columns (total 73 columns):\n",
            " #   Column                       Non-Null Count   Dtype  \n",
            "---  ------                       --------------   -----  \n",
            " 0   id                           855969 non-null  int64  \n",
            " 1   member_id                    855969 non-null  int64  \n",
            " 2   loan_amnt                    855969 non-null  float64\n",
            " 3   funded_amnt                  855969 non-null  float64\n",
            " 4   funded_amnt_inv              855969 non-null  float64\n",
            " 5   term                         855969 non-null  object \n",
            " 6   int_rate                     855969 non-null  float64\n",
            " 7   installment                  855969 non-null  float64\n",
            " 8   grade                        855969 non-null  object \n",
            " 9   sub_grade                    855969 non-null  object \n",
            " 10  emp_title                    806526 non-null  object \n",
            " 11  emp_length                   812908 non-null  object \n",
            " 12  home_ownership               855969 non-null  object \n",
            " 13  annual_inc                   855969 non-null  float64\n",
            " 14  verification_status          855969 non-null  object \n",
            " 15  issue_d                      855969 non-null  object \n",
            " 16  pymnt_plan                   855969 non-null  object \n",
            " 17  desc                         121812 non-null  object \n",
            " 18  purpose                      855969 non-null  object \n",
            " 19  title                        855936 non-null  object \n",
            " 20  zip_code                     855969 non-null  object \n",
            " 21  addr_state                   855969 non-null  object \n",
            " 22  dti                          855969 non-null  float64\n",
            " 23  delinq_2yrs                  855969 non-null  float64\n",
            " 24  earliest_cr_line             855969 non-null  object \n",
            " 25  inq_last_6mths               855969 non-null  float64\n",
            " 26  mths_since_last_delinq       416157 non-null  float64\n",
            " 27  mths_since_last_record       131184 non-null  float64\n",
            " 28  open_acc                     855969 non-null  float64\n",
            " 29  pub_rec                      855969 non-null  float64\n",
            " 30  revol_bal                    855969 non-null  float64\n",
            " 31  revol_util                   855523 non-null  float64\n",
            " 32  total_acc                    855969 non-null  float64\n",
            " 33  initial_list_status          855969 non-null  object \n",
            " 34  out_prncp                    855969 non-null  float64\n",
            " 35  out_prncp_inv                855969 non-null  float64\n",
            " 36  total_pymnt                  855969 non-null  float64\n",
            " 37  total_pymnt_inv              855969 non-null  float64\n",
            " 38  total_rec_prncp              855969 non-null  float64\n",
            " 39  total_rec_int                855969 non-null  float64\n",
            " 40  total_rec_late_fee           855969 non-null  float64\n",
            " 41  recoveries                   855969 non-null  float64\n",
            " 42  collection_recovery_fee      855969 non-null  float64\n",
            " 43  last_pymnt_d                 847107 non-null  object \n",
            " 44  last_pymnt_amnt              855969 non-null  float64\n",
            " 45  next_pymnt_d                 602998 non-null  object \n",
            " 46  last_credit_pull_d           855919 non-null  object \n",
            " 47  collections_12_mths_ex_med   855913 non-null  float64\n",
            " 48  mths_since_last_major_derog  213139 non-null  float64\n",
            " 49  policy_code                  855969 non-null  float64\n",
            " 50  application_type             855969 non-null  object \n",
            " 51  annual_inc_joint             442 non-null     float64\n",
            " 52  dti_joint                    440 non-null     float64\n",
            " 53  verification_status_joint    442 non-null     object \n",
            " 54  acc_now_delinq               855969 non-null  float64\n",
            " 55  tot_coll_amt                 788656 non-null  float64\n",
            " 56  tot_cur_bal                  788656 non-null  float64\n",
            " 57  open_acc_6m                  13288 non-null   float64\n",
            " 58  open_il_6m                   13288 non-null   float64\n",
            " 59  open_il_12m                  13288 non-null   float64\n",
            " 60  open_il_24m                  13288 non-null   float64\n",
            " 61  mths_since_rcnt_il           12934 non-null   float64\n",
            " 62  total_bal_il                 13288 non-null   float64\n",
            " 63  il_util                      11609 non-null   float64\n",
            " 64  open_rv_12m                  13288 non-null   float64\n",
            " 65  open_rv_24m                  13288 non-null   float64\n",
            " 66  max_bal_bc                   13288 non-null   float64\n",
            " 67  all_util                     13288 non-null   float64\n",
            " 68  total_rev_hi_lim             788656 non-null  float64\n",
            " 69  inq_fi                       13288 non-null   float64\n",
            " 70  total_cu_tl                  13288 non-null   float64\n",
            " 71  inq_last_12m                 13288 non-null   float64\n",
            " 72  default_ind                  855969 non-null  int64  \n",
            "dtypes: float64(49), int64(3), object(21)\n",
            "memory usage: 476.7+ MB\n"
          ],
          "name": "stdout"
        }
      ]
    },
    {
      "cell_type": "code",
      "metadata": {
        "id": "2re2n3bhuJuX",
        "colab_type": "code",
        "colab": {
          "base_uri": "https://localhost:8080/"
        },
        "outputId": "1f6805a5-910a-4800-f4ca-25851f5ad60d"
      },
      "source": [
        "loan_df.describe()"
      ],
      "execution_count": null,
      "outputs": [
        {
          "output_type": "execute_result",
          "data": {
            "text/html": [
              "<div>\n",
              "<style scoped>\n",
              "    .dataframe tbody tr th:only-of-type {\n",
              "        vertical-align: middle;\n",
              "    }\n",
              "\n",
              "    .dataframe tbody tr th {\n",
              "        vertical-align: top;\n",
              "    }\n",
              "\n",
              "    .dataframe thead th {\n",
              "        text-align: right;\n",
              "    }\n",
              "</style>\n",
              "<table border=\"1\" class=\"dataframe\">\n",
              "  <thead>\n",
              "    <tr style=\"text-align: right;\">\n",
              "      <th></th>\n",
              "      <th>id</th>\n",
              "      <th>member_id</th>\n",
              "      <th>loan_amnt</th>\n",
              "      <th>funded_amnt</th>\n",
              "      <th>funded_amnt_inv</th>\n",
              "      <th>int_rate</th>\n",
              "      <th>installment</th>\n",
              "      <th>annual_inc</th>\n",
              "      <th>dti</th>\n",
              "      <th>delinq_2yrs</th>\n",
              "      <th>inq_last_6mths</th>\n",
              "      <th>mths_since_last_delinq</th>\n",
              "      <th>mths_since_last_record</th>\n",
              "      <th>open_acc</th>\n",
              "      <th>pub_rec</th>\n",
              "      <th>revol_bal</th>\n",
              "      <th>revol_util</th>\n",
              "      <th>total_acc</th>\n",
              "      <th>out_prncp</th>\n",
              "      <th>out_prncp_inv</th>\n",
              "      <th>total_pymnt</th>\n",
              "      <th>total_pymnt_inv</th>\n",
              "      <th>total_rec_prncp</th>\n",
              "      <th>total_rec_int</th>\n",
              "      <th>total_rec_late_fee</th>\n",
              "      <th>recoveries</th>\n",
              "      <th>collection_recovery_fee</th>\n",
              "      <th>last_pymnt_amnt</th>\n",
              "      <th>collections_12_mths_ex_med</th>\n",
              "      <th>mths_since_last_major_derog</th>\n",
              "      <th>policy_code</th>\n",
              "      <th>annual_inc_joint</th>\n",
              "      <th>dti_joint</th>\n",
              "      <th>acc_now_delinq</th>\n",
              "      <th>tot_coll_amt</th>\n",
              "      <th>tot_cur_bal</th>\n",
              "      <th>open_acc_6m</th>\n",
              "      <th>open_il_6m</th>\n",
              "      <th>open_il_12m</th>\n",
              "      <th>open_il_24m</th>\n",
              "      <th>mths_since_rcnt_il</th>\n",
              "      <th>total_bal_il</th>\n",
              "      <th>il_util</th>\n",
              "      <th>open_rv_12m</th>\n",
              "      <th>open_rv_24m</th>\n",
              "      <th>max_bal_bc</th>\n",
              "      <th>all_util</th>\n",
              "      <th>total_rev_hi_lim</th>\n",
              "      <th>inq_fi</th>\n",
              "      <th>total_cu_tl</th>\n",
              "      <th>inq_last_12m</th>\n",
              "      <th>default_ind</th>\n",
              "    </tr>\n",
              "  </thead>\n",
              "  <tbody>\n",
              "    <tr>\n",
              "      <th>count</th>\n",
              "      <td>8.559690e+05</td>\n",
              "      <td>8.559690e+05</td>\n",
              "      <td>855969.000000</td>\n",
              "      <td>855969.000000</td>\n",
              "      <td>855969.000000</td>\n",
              "      <td>855969.000000</td>\n",
              "      <td>855969.000000</td>\n",
              "      <td>8.559690e+05</td>\n",
              "      <td>855969.000000</td>\n",
              "      <td>855969.000000</td>\n",
              "      <td>855969.000000</td>\n",
              "      <td>416157.000000</td>\n",
              "      <td>131184.000000</td>\n",
              "      <td>855969.000000</td>\n",
              "      <td>855969.000000</td>\n",
              "      <td>8.559690e+05</td>\n",
              "      <td>855523.000000</td>\n",
              "      <td>855969.000000</td>\n",
              "      <td>855969.000000</td>\n",
              "      <td>855969.000000</td>\n",
              "      <td>855969.000000</td>\n",
              "      <td>855969.00000</td>\n",
              "      <td>855969.000000</td>\n",
              "      <td>855969.000000</td>\n",
              "      <td>855969.000000</td>\n",
              "      <td>855969.000000</td>\n",
              "      <td>855969.000000</td>\n",
              "      <td>855969.000000</td>\n",
              "      <td>855913.000000</td>\n",
              "      <td>213139.000000</td>\n",
              "      <td>855969.0</td>\n",
              "      <td>442.000000</td>\n",
              "      <td>440.000000</td>\n",
              "      <td>855969.000000</td>\n",
              "      <td>7.886560e+05</td>\n",
              "      <td>7.886560e+05</td>\n",
              "      <td>13288.000000</td>\n",
              "      <td>13288.000000</td>\n",
              "      <td>13288.000000</td>\n",
              "      <td>13288.000000</td>\n",
              "      <td>12934.000000</td>\n",
              "      <td>13288.000000</td>\n",
              "      <td>11609.000000</td>\n",
              "      <td>13288.000000</td>\n",
              "      <td>13288.000000</td>\n",
              "      <td>13288.000000</td>\n",
              "      <td>13288.000000</td>\n",
              "      <td>7.886560e+05</td>\n",
              "      <td>13288.000000</td>\n",
              "      <td>13288.000000</td>\n",
              "      <td>13288.000000</td>\n",
              "      <td>855969.000000</td>\n",
              "    </tr>\n",
              "    <tr>\n",
              "      <th>mean</th>\n",
              "      <td>3.224073e+07</td>\n",
              "      <td>3.476269e+07</td>\n",
              "      <td>14745.571335</td>\n",
              "      <td>14732.378305</td>\n",
              "      <td>14700.061226</td>\n",
              "      <td>13.192320</td>\n",
              "      <td>436.238072</td>\n",
              "      <td>7.507119e+04</td>\n",
              "      <td>18.122165</td>\n",
              "      <td>0.311621</td>\n",
              "      <td>0.680915</td>\n",
              "      <td>34.149943</td>\n",
              "      <td>70.463959</td>\n",
              "      <td>11.542447</td>\n",
              "      <td>0.194537</td>\n",
              "      <td>1.691053e+04</td>\n",
              "      <td>55.019405</td>\n",
              "      <td>25.269269</td>\n",
              "      <td>8284.830230</td>\n",
              "      <td>8281.449347</td>\n",
              "      <td>7653.296336</td>\n",
              "      <td>7622.22052</td>\n",
              "      <td>5850.841088</td>\n",
              "      <td>1755.046221</td>\n",
              "      <td>0.319530</td>\n",
              "      <td>47.089499</td>\n",
              "      <td>4.951227</td>\n",
              "      <td>2225.985295</td>\n",
              "      <td>0.014230</td>\n",
              "      <td>44.101450</td>\n",
              "      <td>1.0</td>\n",
              "      <td>107412.163982</td>\n",
              "      <td>18.318477</td>\n",
              "      <td>0.004944</td>\n",
              "      <td>2.254129e+02</td>\n",
              "      <td>1.397662e+05</td>\n",
              "      <td>1.072998</td>\n",
              "      <td>2.945665</td>\n",
              "      <td>0.749323</td>\n",
              "      <td>1.666767</td>\n",
              "      <td>20.833153</td>\n",
              "      <td>36511.541391</td>\n",
              "      <td>71.486993</td>\n",
              "      <td>1.354305</td>\n",
              "      <td>2.945515</td>\n",
              "      <td>5840.443332</td>\n",
              "      <td>61.024526</td>\n",
              "      <td>3.216357e+04</td>\n",
              "      <td>0.947772</td>\n",
              "      <td>1.524232</td>\n",
              "      <td>1.841963</td>\n",
              "      <td>0.054286</td>\n",
              "    </tr>\n",
              "    <tr>\n",
              "      <th>std</th>\n",
              "      <td>2.271969e+07</td>\n",
              "      <td>2.399418e+07</td>\n",
              "      <td>8425.340005</td>\n",
              "      <td>8419.471653</td>\n",
              "      <td>8425.805478</td>\n",
              "      <td>4.368365</td>\n",
              "      <td>243.726876</td>\n",
              "      <td>6.426447e+04</td>\n",
              "      <td>17.423629</td>\n",
              "      <td>0.857189</td>\n",
              "      <td>0.964033</td>\n",
              "      <td>21.868500</td>\n",
              "      <td>27.827120</td>\n",
              "      <td>5.308094</td>\n",
              "      <td>0.581585</td>\n",
              "      <td>2.222374e+04</td>\n",
              "      <td>23.811585</td>\n",
              "      <td>11.818841</td>\n",
              "      <td>8461.946669</td>\n",
              "      <td>8458.496422</td>\n",
              "      <td>7909.383591</td>\n",
              "      <td>7885.15640</td>\n",
              "      <td>6676.410888</td>\n",
              "      <td>2081.692980</td>\n",
              "      <td>3.609399</td>\n",
              "      <td>413.136043</td>\n",
              "      <td>62.478569</td>\n",
              "      <td>4864.966593</td>\n",
              "      <td>0.133712</td>\n",
              "      <td>22.164907</td>\n",
              "      <td>0.0</td>\n",
              "      <td>47987.608637</td>\n",
              "      <td>7.221855</td>\n",
              "      <td>0.077333</td>\n",
              "      <td>1.048945e+04</td>\n",
              "      <td>1.539385e+05</td>\n",
              "      <td>1.206939</td>\n",
              "      <td>3.080330</td>\n",
              "      <td>0.986169</td>\n",
              "      <td>1.685394</td>\n",
              "      <td>26.739237</td>\n",
              "      <td>42492.757796</td>\n",
              "      <td>23.015293</td>\n",
              "      <td>1.483710</td>\n",
              "      <td>2.595313</td>\n",
              "      <td>5108.500262</td>\n",
              "      <td>20.018117</td>\n",
              "      <td>3.769964e+04</td>\n",
              "      <td>1.441667</td>\n",
              "      <td>2.697601</td>\n",
              "      <td>2.975049</td>\n",
              "      <td>0.226581</td>\n",
              "    </tr>\n",
              "    <tr>\n",
              "      <th>min</th>\n",
              "      <td>5.473400e+04</td>\n",
              "      <td>7.069900e+04</td>\n",
              "      <td>500.000000</td>\n",
              "      <td>500.000000</td>\n",
              "      <td>0.000000</td>\n",
              "      <td>5.320000</td>\n",
              "      <td>15.690000</td>\n",
              "      <td>0.000000e+00</td>\n",
              "      <td>0.000000</td>\n",
              "      <td>0.000000</td>\n",
              "      <td>0.000000</td>\n",
              "      <td>0.000000</td>\n",
              "      <td>0.000000</td>\n",
              "      <td>0.000000</td>\n",
              "      <td>0.000000</td>\n",
              "      <td>0.000000e+00</td>\n",
              "      <td>0.000000</td>\n",
              "      <td>2.000000</td>\n",
              "      <td>0.000000</td>\n",
              "      <td>0.000000</td>\n",
              "      <td>0.000000</td>\n",
              "      <td>0.00000</td>\n",
              "      <td>0.000000</td>\n",
              "      <td>0.000000</td>\n",
              "      <td>0.000000</td>\n",
              "      <td>0.000000</td>\n",
              "      <td>0.000000</td>\n",
              "      <td>0.000000</td>\n",
              "      <td>0.000000</td>\n",
              "      <td>0.000000</td>\n",
              "      <td>1.0</td>\n",
              "      <td>17950.000000</td>\n",
              "      <td>3.050000</td>\n",
              "      <td>0.000000</td>\n",
              "      <td>0.000000e+00</td>\n",
              "      <td>0.000000e+00</td>\n",
              "      <td>0.000000</td>\n",
              "      <td>0.000000</td>\n",
              "      <td>0.000000</td>\n",
              "      <td>0.000000</td>\n",
              "      <td>0.000000</td>\n",
              "      <td>0.000000</td>\n",
              "      <td>0.000000</td>\n",
              "      <td>0.000000</td>\n",
              "      <td>0.000000</td>\n",
              "      <td>0.000000</td>\n",
              "      <td>0.000000</td>\n",
              "      <td>0.000000e+00</td>\n",
              "      <td>0.000000</td>\n",
              "      <td>0.000000</td>\n",
              "      <td>-4.000000</td>\n",
              "      <td>0.000000</td>\n",
              "    </tr>\n",
              "    <tr>\n",
              "      <th>25%</th>\n",
              "      <td>9.067986e+06</td>\n",
              "      <td>1.079273e+07</td>\n",
              "      <td>8000.000000</td>\n",
              "      <td>8000.000000</td>\n",
              "      <td>8000.000000</td>\n",
              "      <td>9.990000</td>\n",
              "      <td>260.550000</td>\n",
              "      <td>4.500000e+04</td>\n",
              "      <td>11.880000</td>\n",
              "      <td>0.000000</td>\n",
              "      <td>0.000000</td>\n",
              "      <td>15.000000</td>\n",
              "      <td>51.000000</td>\n",
              "      <td>8.000000</td>\n",
              "      <td>0.000000</td>\n",
              "      <td>6.469000e+03</td>\n",
              "      <td>37.600000</td>\n",
              "      <td>17.000000</td>\n",
              "      <td>0.000000</td>\n",
              "      <td>0.000000</td>\n",
              "      <td>1969.690000</td>\n",
              "      <td>1960.12000</td>\n",
              "      <td>1239.950000</td>\n",
              "      <td>451.270000</td>\n",
              "      <td>0.000000</td>\n",
              "      <td>0.000000</td>\n",
              "      <td>0.000000</td>\n",
              "      <td>285.420000</td>\n",
              "      <td>0.000000</td>\n",
              "      <td>27.000000</td>\n",
              "      <td>1.0</td>\n",
              "      <td>75000.250000</td>\n",
              "      <td>13.187500</td>\n",
              "      <td>0.000000</td>\n",
              "      <td>0.000000e+00</td>\n",
              "      <td>2.987000e+04</td>\n",
              "      <td>0.000000</td>\n",
              "      <td>1.000000</td>\n",
              "      <td>0.000000</td>\n",
              "      <td>0.000000</td>\n",
              "      <td>6.000000</td>\n",
              "      <td>10390.250000</td>\n",
              "      <td>58.500000</td>\n",
              "      <td>0.000000</td>\n",
              "      <td>1.000000</td>\n",
              "      <td>2405.000000</td>\n",
              "      <td>47.900000</td>\n",
              "      <td>1.400000e+04</td>\n",
              "      <td>0.000000</td>\n",
              "      <td>0.000000</td>\n",
              "      <td>0.000000</td>\n",
              "      <td>0.000000</td>\n",
              "    </tr>\n",
              "    <tr>\n",
              "      <th>50%</th>\n",
              "      <td>3.431355e+07</td>\n",
              "      <td>3.697532e+07</td>\n",
              "      <td>13000.000000</td>\n",
              "      <td>13000.000000</td>\n",
              "      <td>13000.000000</td>\n",
              "      <td>12.990000</td>\n",
              "      <td>382.550000</td>\n",
              "      <td>6.500000e+04</td>\n",
              "      <td>17.610000</td>\n",
              "      <td>0.000000</td>\n",
              "      <td>0.000000</td>\n",
              "      <td>31.000000</td>\n",
              "      <td>70.000000</td>\n",
              "      <td>11.000000</td>\n",
              "      <td>0.000000</td>\n",
              "      <td>1.190300e+04</td>\n",
              "      <td>55.900000</td>\n",
              "      <td>24.000000</td>\n",
              "      <td>6290.250000</td>\n",
              "      <td>6287.650000</td>\n",
              "      <td>4976.160000</td>\n",
              "      <td>4948.25000</td>\n",
              "      <td>3286.890000</td>\n",
              "      <td>1076.910000</td>\n",
              "      <td>0.000000</td>\n",
              "      <td>0.000000</td>\n",
              "      <td>0.000000</td>\n",
              "      <td>468.820000</td>\n",
              "      <td>0.000000</td>\n",
              "      <td>44.000000</td>\n",
              "      <td>1.0</td>\n",
              "      <td>100000.000000</td>\n",
              "      <td>17.735000</td>\n",
              "      <td>0.000000</td>\n",
              "      <td>0.000000e+00</td>\n",
              "      <td>8.100850e+04</td>\n",
              "      <td>1.000000</td>\n",
              "      <td>2.000000</td>\n",
              "      <td>0.000000</td>\n",
              "      <td>1.000000</td>\n",
              "      <td>12.000000</td>\n",
              "      <td>24959.500000</td>\n",
              "      <td>75.000000</td>\n",
              "      <td>1.000000</td>\n",
              "      <td>2.000000</td>\n",
              "      <td>4485.500000</td>\n",
              "      <td>62.100000</td>\n",
              "      <td>2.380000e+04</td>\n",
              "      <td>0.000000</td>\n",
              "      <td>0.000000</td>\n",
              "      <td>2.000000</td>\n",
              "      <td>0.000000</td>\n",
              "    </tr>\n",
              "    <tr>\n",
              "      <th>75%</th>\n",
              "      <td>5.446311e+07</td>\n",
              "      <td>5.803559e+07</td>\n",
              "      <td>20000.000000</td>\n",
              "      <td>20000.000000</td>\n",
              "      <td>20000.000000</td>\n",
              "      <td>15.990000</td>\n",
              "      <td>571.560000</td>\n",
              "      <td>9.000000e+04</td>\n",
              "      <td>23.900000</td>\n",
              "      <td>0.000000</td>\n",
              "      <td>1.000000</td>\n",
              "      <td>50.000000</td>\n",
              "      <td>92.000000</td>\n",
              "      <td>14.000000</td>\n",
              "      <td>0.000000</td>\n",
              "      <td>2.085700e+04</td>\n",
              "      <td>73.500000</td>\n",
              "      <td>32.000000</td>\n",
              "      <td>13528.800000</td>\n",
              "      <td>13522.510000</td>\n",
              "      <td>10744.803649</td>\n",
              "      <td>10697.33000</td>\n",
              "      <td>8000.000000</td>\n",
              "      <td>2233.980000</td>\n",
              "      <td>0.000000</td>\n",
              "      <td>0.000000</td>\n",
              "      <td>0.000000</td>\n",
              "      <td>849.160000</td>\n",
              "      <td>0.000000</td>\n",
              "      <td>61.000000</td>\n",
              "      <td>1.0</td>\n",
              "      <td>130750.000000</td>\n",
              "      <td>22.650000</td>\n",
              "      <td>0.000000</td>\n",
              "      <td>0.000000e+00</td>\n",
              "      <td>2.087032e+05</td>\n",
              "      <td>2.000000</td>\n",
              "      <td>4.000000</td>\n",
              "      <td>1.000000</td>\n",
              "      <td>2.000000</td>\n",
              "      <td>23.000000</td>\n",
              "      <td>47493.000000</td>\n",
              "      <td>87.500000</td>\n",
              "      <td>2.000000</td>\n",
              "      <td>4.000000</td>\n",
              "      <td>7701.250000</td>\n",
              "      <td>75.300000</td>\n",
              "      <td>3.990000e+04</td>\n",
              "      <td>1.000000</td>\n",
              "      <td>2.000000</td>\n",
              "      <td>3.000000</td>\n",
              "      <td>0.000000</td>\n",
              "    </tr>\n",
              "    <tr>\n",
              "      <th>max</th>\n",
              "      <td>6.861687e+07</td>\n",
              "      <td>7.351969e+07</td>\n",
              "      <td>35000.000000</td>\n",
              "      <td>35000.000000</td>\n",
              "      <td>35000.000000</td>\n",
              "      <td>28.990000</td>\n",
              "      <td>1445.460000</td>\n",
              "      <td>9.500000e+06</td>\n",
              "      <td>9999.000000</td>\n",
              "      <td>39.000000</td>\n",
              "      <td>8.000000</td>\n",
              "      <td>188.000000</td>\n",
              "      <td>129.000000</td>\n",
              "      <td>90.000000</td>\n",
              "      <td>86.000000</td>\n",
              "      <td>2.904836e+06</td>\n",
              "      <td>892.300000</td>\n",
              "      <td>169.000000</td>\n",
              "      <td>49372.860000</td>\n",
              "      <td>49372.860000</td>\n",
              "      <td>57777.579870</td>\n",
              "      <td>57777.58000</td>\n",
              "      <td>35000.030000</td>\n",
              "      <td>24205.620000</td>\n",
              "      <td>358.680000</td>\n",
              "      <td>33520.270000</td>\n",
              "      <td>7002.190000</td>\n",
              "      <td>36475.590000</td>\n",
              "      <td>20.000000</td>\n",
              "      <td>188.000000</td>\n",
              "      <td>1.0</td>\n",
              "      <td>410000.000000</td>\n",
              "      <td>43.860000</td>\n",
              "      <td>14.000000</td>\n",
              "      <td>9.152545e+06</td>\n",
              "      <td>8.000078e+06</td>\n",
              "      <td>12.000000</td>\n",
              "      <td>40.000000</td>\n",
              "      <td>12.000000</td>\n",
              "      <td>15.000000</td>\n",
              "      <td>300.000000</td>\n",
              "      <td>634217.000000</td>\n",
              "      <td>223.300000</td>\n",
              "      <td>22.000000</td>\n",
              "      <td>43.000000</td>\n",
              "      <td>83047.000000</td>\n",
              "      <td>151.400000</td>\n",
              "      <td>9.999999e+06</td>\n",
              "      <td>15.000000</td>\n",
              "      <td>33.000000</td>\n",
              "      <td>32.000000</td>\n",
              "      <td>1.000000</td>\n",
              "    </tr>\n",
              "  </tbody>\n",
              "</table>\n",
              "</div>"
            ],
            "text/plain": [
              "                 id     member_id  ...  inq_last_12m    default_ind\n",
              "count  8.559690e+05  8.559690e+05  ...  13288.000000  855969.000000\n",
              "mean   3.224073e+07  3.476269e+07  ...      1.841963       0.054286\n",
              "std    2.271969e+07  2.399418e+07  ...      2.975049       0.226581\n",
              "min    5.473400e+04  7.069900e+04  ...     -4.000000       0.000000\n",
              "25%    9.067986e+06  1.079273e+07  ...      0.000000       0.000000\n",
              "50%    3.431355e+07  3.697532e+07  ...      2.000000       0.000000\n",
              "75%    5.446311e+07  5.803559e+07  ...      3.000000       0.000000\n",
              "max    6.861687e+07  7.351969e+07  ...     32.000000       1.000000\n",
              "\n",
              "[8 rows x 52 columns]"
            ]
          },
          "metadata": {
            "tags": []
          },
          "execution_count": 232
        }
      ]
    },
    {
      "cell_type": "code",
      "metadata": {
        "id": "crRBZWm6YhqC",
        "colab_type": "code",
        "colab": {
          "base_uri": "https://localhost:8080/"
        },
        "outputId": "fd2dc6d7-4c99-464f-b5ab-11ecb5a2ecf2"
      },
      "source": [
        "loan_df.default_ind.value_counts()"
      ],
      "execution_count": null,
      "outputs": [
        {
          "output_type": "execute_result",
          "data": {
            "text/plain": [
              "0    809502\n",
              "1     46467\n",
              "Name: default_ind, dtype: int64"
            ]
          },
          "metadata": {
            "tags": []
          },
          "execution_count": 233
        }
      ]
    },
    {
      "cell_type": "code",
      "metadata": {
        "id": "QifviKY9qf5J",
        "colab_type": "code",
        "colab": {
          "base_uri": "https://localhost:8080/"
        },
        "outputId": "9748873e-d45a-46e1-eb81-a6e0af46a818"
      },
      "source": [
        "loan_df.sample(3)"
      ],
      "execution_count": null,
      "outputs": [
        {
          "output_type": "execute_result",
          "data": {
            "text/html": [
              "<div>\n",
              "<style scoped>\n",
              "    .dataframe tbody tr th:only-of-type {\n",
              "        vertical-align: middle;\n",
              "    }\n",
              "\n",
              "    .dataframe tbody tr th {\n",
              "        vertical-align: top;\n",
              "    }\n",
              "\n",
              "    .dataframe thead th {\n",
              "        text-align: right;\n",
              "    }\n",
              "</style>\n",
              "<table border=\"1\" class=\"dataframe\">\n",
              "  <thead>\n",
              "    <tr style=\"text-align: right;\">\n",
              "      <th></th>\n",
              "      <th>id</th>\n",
              "      <th>member_id</th>\n",
              "      <th>loan_amnt</th>\n",
              "      <th>funded_amnt</th>\n",
              "      <th>funded_amnt_inv</th>\n",
              "      <th>term</th>\n",
              "      <th>int_rate</th>\n",
              "      <th>installment</th>\n",
              "      <th>grade</th>\n",
              "      <th>sub_grade</th>\n",
              "      <th>emp_title</th>\n",
              "      <th>emp_length</th>\n",
              "      <th>home_ownership</th>\n",
              "      <th>annual_inc</th>\n",
              "      <th>verification_status</th>\n",
              "      <th>issue_d</th>\n",
              "      <th>pymnt_plan</th>\n",
              "      <th>desc</th>\n",
              "      <th>purpose</th>\n",
              "      <th>title</th>\n",
              "      <th>zip_code</th>\n",
              "      <th>addr_state</th>\n",
              "      <th>dti</th>\n",
              "      <th>delinq_2yrs</th>\n",
              "      <th>earliest_cr_line</th>\n",
              "      <th>inq_last_6mths</th>\n",
              "      <th>mths_since_last_delinq</th>\n",
              "      <th>mths_since_last_record</th>\n",
              "      <th>open_acc</th>\n",
              "      <th>pub_rec</th>\n",
              "      <th>revol_bal</th>\n",
              "      <th>revol_util</th>\n",
              "      <th>total_acc</th>\n",
              "      <th>initial_list_status</th>\n",
              "      <th>out_prncp</th>\n",
              "      <th>out_prncp_inv</th>\n",
              "      <th>total_pymnt</th>\n",
              "      <th>total_pymnt_inv</th>\n",
              "      <th>total_rec_prncp</th>\n",
              "      <th>total_rec_int</th>\n",
              "      <th>total_rec_late_fee</th>\n",
              "      <th>recoveries</th>\n",
              "      <th>collection_recovery_fee</th>\n",
              "      <th>last_pymnt_d</th>\n",
              "      <th>last_pymnt_amnt</th>\n",
              "      <th>next_pymnt_d</th>\n",
              "      <th>last_credit_pull_d</th>\n",
              "      <th>collections_12_mths_ex_med</th>\n",
              "      <th>mths_since_last_major_derog</th>\n",
              "      <th>policy_code</th>\n",
              "      <th>application_type</th>\n",
              "      <th>annual_inc_joint</th>\n",
              "      <th>dti_joint</th>\n",
              "      <th>verification_status_joint</th>\n",
              "      <th>acc_now_delinq</th>\n",
              "      <th>tot_coll_amt</th>\n",
              "      <th>tot_cur_bal</th>\n",
              "      <th>open_acc_6m</th>\n",
              "      <th>open_il_6m</th>\n",
              "      <th>open_il_12m</th>\n",
              "      <th>open_il_24m</th>\n",
              "      <th>mths_since_rcnt_il</th>\n",
              "      <th>total_bal_il</th>\n",
              "      <th>il_util</th>\n",
              "      <th>open_rv_12m</th>\n",
              "      <th>open_rv_24m</th>\n",
              "      <th>max_bal_bc</th>\n",
              "      <th>all_util</th>\n",
              "      <th>total_rev_hi_lim</th>\n",
              "      <th>inq_fi</th>\n",
              "      <th>total_cu_tl</th>\n",
              "      <th>inq_last_12m</th>\n",
              "      <th>default_ind</th>\n",
              "    </tr>\n",
              "  </thead>\n",
              "  <tbody>\n",
              "    <tr>\n",
              "      <th>316255</th>\n",
              "      <td>23886200</td>\n",
              "      <td>26258739</td>\n",
              "      <td>24000.0</td>\n",
              "      <td>24000.0</td>\n",
              "      <td>24000.0</td>\n",
              "      <td>36 months</td>\n",
              "      <td>16.99</td>\n",
              "      <td>855.55</td>\n",
              "      <td>D</td>\n",
              "      <td>D3</td>\n",
              "      <td>Clinical Registered Nurse</td>\n",
              "      <td>3 years</td>\n",
              "      <td>OWN</td>\n",
              "      <td>72000.0</td>\n",
              "      <td>Verified</td>\n",
              "      <td>Aug-2014</td>\n",
              "      <td>n</td>\n",
              "      <td>NaN</td>\n",
              "      <td>small_business</td>\n",
              "      <td>Business</td>\n",
              "      <td>841xx</td>\n",
              "      <td>UT</td>\n",
              "      <td>36.41</td>\n",
              "      <td>0.0</td>\n",
              "      <td>Jun-2010</td>\n",
              "      <td>2.0</td>\n",
              "      <td>NaN</td>\n",
              "      <td>NaN</td>\n",
              "      <td>14.0</td>\n",
              "      <td>0.0</td>\n",
              "      <td>7223.0</td>\n",
              "      <td>30.6</td>\n",
              "      <td>18.0</td>\n",
              "      <td>w</td>\n",
              "      <td>14811.09</td>\n",
              "      <td>14811.09</td>\n",
              "      <td>13688.80</td>\n",
              "      <td>13688.80</td>\n",
              "      <td>9188.91</td>\n",
              "      <td>4499.89</td>\n",
              "      <td>0.0</td>\n",
              "      <td>0.0</td>\n",
              "      <td>0.0</td>\n",
              "      <td>Dec-2015</td>\n",
              "      <td>855.55</td>\n",
              "      <td>Feb-2016</td>\n",
              "      <td>Jan-2016</td>\n",
              "      <td>0.0</td>\n",
              "      <td>NaN</td>\n",
              "      <td>1.0</td>\n",
              "      <td>INDIVIDUAL</td>\n",
              "      <td>NaN</td>\n",
              "      <td>NaN</td>\n",
              "      <td>NaN</td>\n",
              "      <td>0.0</td>\n",
              "      <td>0.0</td>\n",
              "      <td>80126.0</td>\n",
              "      <td>NaN</td>\n",
              "      <td>NaN</td>\n",
              "      <td>NaN</td>\n",
              "      <td>NaN</td>\n",
              "      <td>NaN</td>\n",
              "      <td>NaN</td>\n",
              "      <td>NaN</td>\n",
              "      <td>NaN</td>\n",
              "      <td>NaN</td>\n",
              "      <td>NaN</td>\n",
              "      <td>NaN</td>\n",
              "      <td>23600.0</td>\n",
              "      <td>NaN</td>\n",
              "      <td>NaN</td>\n",
              "      <td>NaN</td>\n",
              "      <td>0</td>\n",
              "    </tr>\n",
              "    <tr>\n",
              "      <th>28198</th>\n",
              "      <td>541531</td>\n",
              "      <td>698956</td>\n",
              "      <td>8500.0</td>\n",
              "      <td>8500.0</td>\n",
              "      <td>8450.0</td>\n",
              "      <td>36 months</td>\n",
              "      <td>6.76</td>\n",
              "      <td>261.53</td>\n",
              "      <td>A</td>\n",
              "      <td>A2</td>\n",
              "      <td>Conneaut Area City Schools</td>\n",
              "      <td>2 years</td>\n",
              "      <td>MORTGAGE</td>\n",
              "      <td>50600.0</td>\n",
              "      <td>Source Verified</td>\n",
              "      <td>Jul-2010</td>\n",
              "      <td>n</td>\n",
              "      <td>Borrower added on 07/07/10 &gt; I have excellen...</td>\n",
              "      <td>major_purchase</td>\n",
              "      <td>volkswagen loan</td>\n",
              "      <td>440xx</td>\n",
              "      <td>OH</td>\n",
              "      <td>15.89</td>\n",
              "      <td>0.0</td>\n",
              "      <td>Oct-1989</td>\n",
              "      <td>0.0</td>\n",
              "      <td>78.0</td>\n",
              "      <td>NaN</td>\n",
              "      <td>16.0</td>\n",
              "      <td>0.0</td>\n",
              "      <td>949.0</td>\n",
              "      <td>8.7</td>\n",
              "      <td>45.0</td>\n",
              "      <td>f</td>\n",
              "      <td>0.00</td>\n",
              "      <td>0.00</td>\n",
              "      <td>9411.36</td>\n",
              "      <td>9356.04</td>\n",
              "      <td>8500.00</td>\n",
              "      <td>911.36</td>\n",
              "      <td>0.0</td>\n",
              "      <td>0.0</td>\n",
              "      <td>0.0</td>\n",
              "      <td>Jul-2013</td>\n",
              "      <td>297.29</td>\n",
              "      <td>NaN</td>\n",
              "      <td>Jul-2013</td>\n",
              "      <td>0.0</td>\n",
              "      <td>NaN</td>\n",
              "      <td>1.0</td>\n",
              "      <td>INDIVIDUAL</td>\n",
              "      <td>NaN</td>\n",
              "      <td>NaN</td>\n",
              "      <td>NaN</td>\n",
              "      <td>0.0</td>\n",
              "      <td>NaN</td>\n",
              "      <td>NaN</td>\n",
              "      <td>NaN</td>\n",
              "      <td>NaN</td>\n",
              "      <td>NaN</td>\n",
              "      <td>NaN</td>\n",
              "      <td>NaN</td>\n",
              "      <td>NaN</td>\n",
              "      <td>NaN</td>\n",
              "      <td>NaN</td>\n",
              "      <td>NaN</td>\n",
              "      <td>NaN</td>\n",
              "      <td>NaN</td>\n",
              "      <td>NaN</td>\n",
              "      <td>NaN</td>\n",
              "      <td>NaN</td>\n",
              "      <td>NaN</td>\n",
              "      <td>0</td>\n",
              "    </tr>\n",
              "    <tr>\n",
              "      <th>409562</th>\n",
              "      <td>12918646</td>\n",
              "      <td>14950835</td>\n",
              "      <td>4900.0</td>\n",
              "      <td>4900.0</td>\n",
              "      <td>4900.0</td>\n",
              "      <td>36 months</td>\n",
              "      <td>12.99</td>\n",
              "      <td>165.08</td>\n",
              "      <td>B</td>\n",
              "      <td>B5</td>\n",
              "      <td>Owner</td>\n",
              "      <td>5 years</td>\n",
              "      <td>OWN</td>\n",
              "      <td>31824.0</td>\n",
              "      <td>Source Verified</td>\n",
              "      <td>Mar-2014</td>\n",
              "      <td>n</td>\n",
              "      <td>NaN</td>\n",
              "      <td>debt_consolidation</td>\n",
              "      <td>Debt consolidation</td>\n",
              "      <td>972xx</td>\n",
              "      <td>OR</td>\n",
              "      <td>10.97</td>\n",
              "      <td>1.0</td>\n",
              "      <td>Sep-1999</td>\n",
              "      <td>1.0</td>\n",
              "      <td>20.0</td>\n",
              "      <td>NaN</td>\n",
              "      <td>12.0</td>\n",
              "      <td>0.0</td>\n",
              "      <td>6133.0</td>\n",
              "      <td>43.5</td>\n",
              "      <td>25.0</td>\n",
              "      <td>f</td>\n",
              "      <td>0.00</td>\n",
              "      <td>0.00</td>\n",
              "      <td>5472.42</td>\n",
              "      <td>5472.42</td>\n",
              "      <td>4900.00</td>\n",
              "      <td>572.42</td>\n",
              "      <td>0.0</td>\n",
              "      <td>0.0</td>\n",
              "      <td>0.0</td>\n",
              "      <td>May-2015</td>\n",
              "      <td>2972.42</td>\n",
              "      <td>NaN</td>\n",
              "      <td>Jan-2016</td>\n",
              "      <td>0.0</td>\n",
              "      <td>62.0</td>\n",
              "      <td>1.0</td>\n",
              "      <td>INDIVIDUAL</td>\n",
              "      <td>NaN</td>\n",
              "      <td>NaN</td>\n",
              "      <td>NaN</td>\n",
              "      <td>0.0</td>\n",
              "      <td>446.0</td>\n",
              "      <td>6133.0</td>\n",
              "      <td>NaN</td>\n",
              "      <td>NaN</td>\n",
              "      <td>NaN</td>\n",
              "      <td>NaN</td>\n",
              "      <td>NaN</td>\n",
              "      <td>NaN</td>\n",
              "      <td>NaN</td>\n",
              "      <td>NaN</td>\n",
              "      <td>NaN</td>\n",
              "      <td>NaN</td>\n",
              "      <td>NaN</td>\n",
              "      <td>14100.0</td>\n",
              "      <td>NaN</td>\n",
              "      <td>NaN</td>\n",
              "      <td>NaN</td>\n",
              "      <td>0</td>\n",
              "    </tr>\n",
              "  </tbody>\n",
              "</table>\n",
              "</div>"
            ],
            "text/plain": [
              "              id  member_id  loan_amnt  ...  total_cu_tl  inq_last_12m default_ind\n",
              "316255  23886200   26258739    24000.0  ...          NaN           NaN           0\n",
              "28198     541531     698956     8500.0  ...          NaN           NaN           0\n",
              "409562  12918646   14950835     4900.0  ...          NaN           NaN           0\n",
              "\n",
              "[3 rows x 73 columns]"
            ]
          },
          "metadata": {
            "tags": []
          },
          "execution_count": 234
        }
      ]
    },
    {
      "cell_type": "markdown",
      "metadata": {
        "id": "f0LqT6nsYhqG",
        "colab_type": "text"
      },
      "source": [
        "### Row wise null count"
      ]
    },
    {
      "cell_type": "code",
      "metadata": {
        "id": "SyQXDQQgYhqH",
        "colab_type": "code",
        "colab": {
          "base_uri": "https://localhost:8080/"
        },
        "outputId": "59e3df57-7066-445d-a331-2f22a3227c65"
      },
      "source": [
        "loan_df.isnull().sum(axis=1).sort_values(ascending=False)"
      ],
      "execution_count": null,
      "outputs": [
        {
          "output_type": "execute_result",
          "data": {
            "text/plain": [
              "14820     28\n",
              "11269     28\n",
              "4712      28\n",
              "218492    27\n",
              "198345    27\n",
              "          ..\n",
              "464502     2\n",
              "464483     2\n",
              "460831     2\n",
              "464659     2\n",
              "452290     1\n",
              "Length: 855969, dtype: int64"
            ]
          },
          "metadata": {
            "tags": []
          },
          "execution_count": 235
        }
      ]
    },
    {
      "cell_type": "markdown",
      "metadata": {
        "id": "2iKyV5ATYhqK",
        "colab_type": "text"
      },
      "source": [
        "### Column wise null count"
      ]
    },
    {
      "cell_type": "code",
      "metadata": {
        "id": "mm3kBjcZYhqQ",
        "colab_type": "code",
        "colab": {
          "base_uri": "https://localhost:8080/"
        },
        "outputId": "134d8caf-0f1b-4708-b26d-d6f6712cb7da"
      },
      "source": [
        "risky = round((loan_df.isnull().sum()/len(loan_df.index)*100),2)\n",
        "risky[risky > 40].sort_values(ascending=False)"
      ],
      "execution_count": null,
      "outputs": [
        {
          "output_type": "execute_result",
          "data": {
            "text/plain": [
              "annual_inc_joint               99.95\n",
              "dti_joint                      99.95\n",
              "verification_status_joint      99.95\n",
              "il_util                        98.64\n",
              "mths_since_rcnt_il             98.49\n",
              "inq_last_12m                   98.45\n",
              "total_cu_tl                    98.45\n",
              "open_acc_6m                    98.45\n",
              "open_il_6m                     98.45\n",
              "open_il_12m                    98.45\n",
              "open_il_24m                    98.45\n",
              "total_bal_il                   98.45\n",
              "open_rv_12m                    98.45\n",
              "open_rv_24m                    98.45\n",
              "max_bal_bc                     98.45\n",
              "all_util                       98.45\n",
              "inq_fi                         98.45\n",
              "desc                           85.77\n",
              "mths_since_last_record         84.67\n",
              "mths_since_last_major_derog    75.10\n",
              "mths_since_last_delinq         51.38\n",
              "dtype: float64"
            ]
          },
          "metadata": {
            "tags": []
          },
          "execution_count": 236
        }
      ]
    },
    {
      "cell_type": "markdown",
      "metadata": {
        "id": "0z-w3IWBYhqY",
        "colab_type": "text"
      },
      "source": [
        "##  Data Cleaning and Data quality issue fixing"
      ]
    },
    {
      "cell_type": "markdown",
      "metadata": {
        "id": "uAwHcxikYhqn",
        "colab_type": "text"
      },
      "source": [
        "### Removing of all unrequired columns based on the data dictionary and columns having null values more than 50%"
      ]
    },
    {
      "cell_type": "code",
      "metadata": {
        "id": "KatCijO5Yhqb",
        "colab_type": "code",
        "colab": {
          "base_uri": "https://localhost:8080/"
        },
        "outputId": "75c75e4a-a54b-4b3b-c60c-38a82d816702"
      },
      "source": [
        "loan_df.dropna(axis=1,how='all',inplace=True)\n",
        "loan_df.shape"
      ],
      "execution_count": null,
      "outputs": [
        {
          "output_type": "execute_result",
          "data": {
            "text/plain": [
              "(855969, 73)"
            ]
          },
          "metadata": {
            "tags": []
          },
          "execution_count": 237
        }
      ]
    },
    {
      "cell_type": "code",
      "metadata": {
        "id": "NEef5LAwrCfs",
        "colab_type": "code",
        "colab": {
          "base_uri": "https://localhost:8080/"
        },
        "outputId": "00b2476f-7631-400c-b7ae-c8632b6ca319"
      },
      "source": [
        "loan_df[['annual_inc_joint', 'dti_joint', 'verification_status_joint', 'il_util',\n",
        "       'mths_since_rcnt_il', 'inq_last_12m', 'total_cu_tl', 'open_acc_6m',\n",
        "       'open_il_6m', 'open_il_12m', 'open_il_24m', 'total_bal_il',\n",
        "       'open_rv_12m', 'open_rv_24m', 'max_bal_bc', 'all_util', 'inq_fi',\n",
        "       'desc', 'mths_since_last_record', 'mths_since_last_major_derog']].sample(3)"
      ],
      "execution_count": null,
      "outputs": [
        {
          "output_type": "execute_result",
          "data": {
            "text/html": [
              "<div>\n",
              "<style scoped>\n",
              "    .dataframe tbody tr th:only-of-type {\n",
              "        vertical-align: middle;\n",
              "    }\n",
              "\n",
              "    .dataframe tbody tr th {\n",
              "        vertical-align: top;\n",
              "    }\n",
              "\n",
              "    .dataframe thead th {\n",
              "        text-align: right;\n",
              "    }\n",
              "</style>\n",
              "<table border=\"1\" class=\"dataframe\">\n",
              "  <thead>\n",
              "    <tr style=\"text-align: right;\">\n",
              "      <th></th>\n",
              "      <th>annual_inc_joint</th>\n",
              "      <th>dti_joint</th>\n",
              "      <th>verification_status_joint</th>\n",
              "      <th>il_util</th>\n",
              "      <th>mths_since_rcnt_il</th>\n",
              "      <th>inq_last_12m</th>\n",
              "      <th>total_cu_tl</th>\n",
              "      <th>open_acc_6m</th>\n",
              "      <th>open_il_6m</th>\n",
              "      <th>open_il_12m</th>\n",
              "      <th>open_il_24m</th>\n",
              "      <th>total_bal_il</th>\n",
              "      <th>open_rv_12m</th>\n",
              "      <th>open_rv_24m</th>\n",
              "      <th>max_bal_bc</th>\n",
              "      <th>all_util</th>\n",
              "      <th>inq_fi</th>\n",
              "      <th>desc</th>\n",
              "      <th>mths_since_last_record</th>\n",
              "      <th>mths_since_last_major_derog</th>\n",
              "    </tr>\n",
              "  </thead>\n",
              "  <tbody>\n",
              "    <tr>\n",
              "      <th>456727</th>\n",
              "      <td>NaN</td>\n",
              "      <td>NaN</td>\n",
              "      <td>NaN</td>\n",
              "      <td>79.8</td>\n",
              "      <td>12.0</td>\n",
              "      <td>3.0</td>\n",
              "      <td>0.0</td>\n",
              "      <td>3.0</td>\n",
              "      <td>2.0</td>\n",
              "      <td>1.0</td>\n",
              "      <td>2.0</td>\n",
              "      <td>46122.0</td>\n",
              "      <td>3.0</td>\n",
              "      <td>5.0</td>\n",
              "      <td>18781.0</td>\n",
              "      <td>62.7</td>\n",
              "      <td>3.0</td>\n",
              "      <td>NaN</td>\n",
              "      <td>NaN</td>\n",
              "      <td>NaN</td>\n",
              "    </tr>\n",
              "    <tr>\n",
              "      <th>730518</th>\n",
              "      <td>NaN</td>\n",
              "      <td>NaN</td>\n",
              "      <td>NaN</td>\n",
              "      <td>NaN</td>\n",
              "      <td>NaN</td>\n",
              "      <td>NaN</td>\n",
              "      <td>NaN</td>\n",
              "      <td>NaN</td>\n",
              "      <td>NaN</td>\n",
              "      <td>NaN</td>\n",
              "      <td>NaN</td>\n",
              "      <td>NaN</td>\n",
              "      <td>NaN</td>\n",
              "      <td>NaN</td>\n",
              "      <td>NaN</td>\n",
              "      <td>NaN</td>\n",
              "      <td>NaN</td>\n",
              "      <td>NaN</td>\n",
              "      <td>NaN</td>\n",
              "      <td>NaN</td>\n",
              "    </tr>\n",
              "    <tr>\n",
              "      <th>773000</th>\n",
              "      <td>NaN</td>\n",
              "      <td>NaN</td>\n",
              "      <td>NaN</td>\n",
              "      <td>NaN</td>\n",
              "      <td>NaN</td>\n",
              "      <td>NaN</td>\n",
              "      <td>NaN</td>\n",
              "      <td>NaN</td>\n",
              "      <td>NaN</td>\n",
              "      <td>NaN</td>\n",
              "      <td>NaN</td>\n",
              "      <td>NaN</td>\n",
              "      <td>NaN</td>\n",
              "      <td>NaN</td>\n",
              "      <td>NaN</td>\n",
              "      <td>NaN</td>\n",
              "      <td>NaN</td>\n",
              "      <td>NaN</td>\n",
              "      <td>83.0</td>\n",
              "      <td>NaN</td>\n",
              "    </tr>\n",
              "  </tbody>\n",
              "</table>\n",
              "</div>"
            ],
            "text/plain": [
              "        annual_inc_joint  ...  mths_since_last_major_derog\n",
              "456727               NaN  ...                          NaN\n",
              "730518               NaN  ...                          NaN\n",
              "773000               NaN  ...                          NaN\n",
              "\n",
              "[3 rows x 20 columns]"
            ]
          },
          "metadata": {
            "tags": []
          },
          "execution_count": 238
        }
      ]
    },
    {
      "cell_type": "code",
      "metadata": {
        "id": "Beh2EWRsrwo3",
        "colab_type": "code",
        "colab": {
          "base_uri": "https://localhost:8080/"
        },
        "outputId": "78f9ac5f-abd8-40dd-ae5e-58ccc21d8bf6"
      },
      "source": [
        "loan_df = loan_df.drop(['annual_inc_joint', 'dti_joint', 'verification_status_joint', 'il_util',\n",
        "       'mths_since_rcnt_il', 'inq_last_12m', 'total_cu_tl', 'open_acc_6m',\n",
        "       'open_il_6m', 'open_il_12m', 'open_il_24m', 'total_bal_il',\n",
        "       'open_rv_12m', 'open_rv_24m', 'max_bal_bc', 'all_util', 'inq_fi',\n",
        "       'desc', 'mths_since_last_record', 'mths_since_last_major_derog','mths_since_last_delinq',\n",
        "       'id','member_id','policy_code','zip_code','sub_grade',\n",
        "       'funded_amnt','funded_amnt_inv','total_pymnt_inv','out_prncp_inv','installment','total_rec_prncp', #highly correlated\n",
        "       'title','earliest_cr_line','addr_state','emp_title','next_pymnt_d','last_credit_pull_d','last_pymnt_d', #'initial_list_status'(?)\n",
        "       ],axis=1)\n",
        "\n",
        "loan_df.sample(5)\n",
        "# del_df.shape"
      ],
      "execution_count": null,
      "outputs": [
        {
          "output_type": "execute_result",
          "data": {
            "text/html": [
              "<div>\n",
              "<style scoped>\n",
              "    .dataframe tbody tr th:only-of-type {\n",
              "        vertical-align: middle;\n",
              "    }\n",
              "\n",
              "    .dataframe tbody tr th {\n",
              "        vertical-align: top;\n",
              "    }\n",
              "\n",
              "    .dataframe thead th {\n",
              "        text-align: right;\n",
              "    }\n",
              "</style>\n",
              "<table border=\"1\" class=\"dataframe\">\n",
              "  <thead>\n",
              "    <tr style=\"text-align: right;\">\n",
              "      <th></th>\n",
              "      <th>loan_amnt</th>\n",
              "      <th>term</th>\n",
              "      <th>int_rate</th>\n",
              "      <th>grade</th>\n",
              "      <th>emp_length</th>\n",
              "      <th>home_ownership</th>\n",
              "      <th>annual_inc</th>\n",
              "      <th>verification_status</th>\n",
              "      <th>issue_d</th>\n",
              "      <th>pymnt_plan</th>\n",
              "      <th>purpose</th>\n",
              "      <th>dti</th>\n",
              "      <th>delinq_2yrs</th>\n",
              "      <th>inq_last_6mths</th>\n",
              "      <th>open_acc</th>\n",
              "      <th>pub_rec</th>\n",
              "      <th>revol_bal</th>\n",
              "      <th>revol_util</th>\n",
              "      <th>total_acc</th>\n",
              "      <th>initial_list_status</th>\n",
              "      <th>out_prncp</th>\n",
              "      <th>total_pymnt</th>\n",
              "      <th>total_rec_int</th>\n",
              "      <th>total_rec_late_fee</th>\n",
              "      <th>recoveries</th>\n",
              "      <th>collection_recovery_fee</th>\n",
              "      <th>last_pymnt_amnt</th>\n",
              "      <th>collections_12_mths_ex_med</th>\n",
              "      <th>application_type</th>\n",
              "      <th>acc_now_delinq</th>\n",
              "      <th>tot_coll_amt</th>\n",
              "      <th>tot_cur_bal</th>\n",
              "      <th>total_rev_hi_lim</th>\n",
              "      <th>default_ind</th>\n",
              "    </tr>\n",
              "  </thead>\n",
              "  <tbody>\n",
              "    <tr>\n",
              "      <th>485636</th>\n",
              "      <td>28000.0</td>\n",
              "      <td>36 months</td>\n",
              "      <td>7.26</td>\n",
              "      <td>A</td>\n",
              "      <td>10+ years</td>\n",
              "      <td>MORTGAGE</td>\n",
              "      <td>122000.0</td>\n",
              "      <td>Verified</td>\n",
              "      <td>Dec-2015</td>\n",
              "      <td>n</td>\n",
              "      <td>debt_consolidation</td>\n",
              "      <td>34.63</td>\n",
              "      <td>1.0</td>\n",
              "      <td>1.0</td>\n",
              "      <td>37.0</td>\n",
              "      <td>0.0</td>\n",
              "      <td>67108.0</td>\n",
              "      <td>44.0</td>\n",
              "      <td>71.0</td>\n",
              "      <td>w</td>\n",
              "      <td>27301.50</td>\n",
              "      <td>856.61</td>\n",
              "      <td>158.11</td>\n",
              "      <td>0.0</td>\n",
              "      <td>0.0</td>\n",
              "      <td>0.0</td>\n",
              "      <td>867.90</td>\n",
              "      <td>0.0</td>\n",
              "      <td>INDIVIDUAL</td>\n",
              "      <td>0.0</td>\n",
              "      <td>0.0</td>\n",
              "      <td>346548.0</td>\n",
              "      <td>153100.0</td>\n",
              "      <td>0</td>\n",
              "    </tr>\n",
              "    <tr>\n",
              "      <th>600099</th>\n",
              "      <td>15000.0</td>\n",
              "      <td>36 months</td>\n",
              "      <td>11.53</td>\n",
              "      <td>B</td>\n",
              "      <td>7 years</td>\n",
              "      <td>OWN</td>\n",
              "      <td>85000.0</td>\n",
              "      <td>Source Verified</td>\n",
              "      <td>Sep-2015</td>\n",
              "      <td>n</td>\n",
              "      <td>credit_card</td>\n",
              "      <td>21.26</td>\n",
              "      <td>0.0</td>\n",
              "      <td>0.0</td>\n",
              "      <td>11.0</td>\n",
              "      <td>0.0</td>\n",
              "      <td>5254.0</td>\n",
              "      <td>45.7</td>\n",
              "      <td>32.0</td>\n",
              "      <td>w</td>\n",
              "      <td>13576.71</td>\n",
              "      <td>1955.42</td>\n",
              "      <td>532.13</td>\n",
              "      <td>0.0</td>\n",
              "      <td>0.0</td>\n",
              "      <td>0.0</td>\n",
              "      <td>494.86</td>\n",
              "      <td>0.0</td>\n",
              "      <td>INDIVIDUAL</td>\n",
              "      <td>0.0</td>\n",
              "      <td>3431.0</td>\n",
              "      <td>315255.0</td>\n",
              "      <td>11500.0</td>\n",
              "      <td>0</td>\n",
              "    </tr>\n",
              "    <tr>\n",
              "      <th>675082</th>\n",
              "      <td>8000.0</td>\n",
              "      <td>36 months</td>\n",
              "      <td>10.99</td>\n",
              "      <td>B</td>\n",
              "      <td>8 years</td>\n",
              "      <td>MORTGAGE</td>\n",
              "      <td>115000.0</td>\n",
              "      <td>Verified</td>\n",
              "      <td>Jul-2015</td>\n",
              "      <td>n</td>\n",
              "      <td>debt_consolidation</td>\n",
              "      <td>16.24</td>\n",
              "      <td>0.0</td>\n",
              "      <td>1.0</td>\n",
              "      <td>15.0</td>\n",
              "      <td>0.0</td>\n",
              "      <td>21736.0</td>\n",
              "      <td>60.4</td>\n",
              "      <td>31.0</td>\n",
              "      <td>f</td>\n",
              "      <td>6842.09</td>\n",
              "      <td>1561.51</td>\n",
              "      <td>403.60</td>\n",
              "      <td>0.0</td>\n",
              "      <td>0.0</td>\n",
              "      <td>0.0</td>\n",
              "      <td>261.88</td>\n",
              "      <td>0.0</td>\n",
              "      <td>INDIVIDUAL</td>\n",
              "      <td>0.0</td>\n",
              "      <td>214.0</td>\n",
              "      <td>239097.0</td>\n",
              "      <td>36000.0</td>\n",
              "      <td>0</td>\n",
              "    </tr>\n",
              "    <tr>\n",
              "      <th>768472</th>\n",
              "      <td>27725.0</td>\n",
              "      <td>36 months</td>\n",
              "      <td>9.99</td>\n",
              "      <td>B</td>\n",
              "      <td>10+ years</td>\n",
              "      <td>RENT</td>\n",
              "      <td>120000.0</td>\n",
              "      <td>Source Verified</td>\n",
              "      <td>Apr-2015</td>\n",
              "      <td>n</td>\n",
              "      <td>debt_consolidation</td>\n",
              "      <td>30.14</td>\n",
              "      <td>0.0</td>\n",
              "      <td>0.0</td>\n",
              "      <td>16.0</td>\n",
              "      <td>0.0</td>\n",
              "      <td>25255.0</td>\n",
              "      <td>53.1</td>\n",
              "      <td>46.0</td>\n",
              "      <td>f</td>\n",
              "      <td>21549.16</td>\n",
              "      <td>8034.93</td>\n",
              "      <td>1859.09</td>\n",
              "      <td>0.0</td>\n",
              "      <td>0.0</td>\n",
              "      <td>0.0</td>\n",
              "      <td>894.48</td>\n",
              "      <td>0.0</td>\n",
              "      <td>INDIVIDUAL</td>\n",
              "      <td>0.0</td>\n",
              "      <td>0.0</td>\n",
              "      <td>105516.0</td>\n",
              "      <td>47600.0</td>\n",
              "      <td>0</td>\n",
              "    </tr>\n",
              "    <tr>\n",
              "      <th>435077</th>\n",
              "      <td>25725.0</td>\n",
              "      <td>36 months</td>\n",
              "      <td>15.61</td>\n",
              "      <td>C</td>\n",
              "      <td>7 years</td>\n",
              "      <td>MORTGAGE</td>\n",
              "      <td>56031.0</td>\n",
              "      <td>Verified</td>\n",
              "      <td>Feb-2014</td>\n",
              "      <td>n</td>\n",
              "      <td>major_purchase</td>\n",
              "      <td>9.59</td>\n",
              "      <td>0.0</td>\n",
              "      <td>0.0</td>\n",
              "      <td>10.0</td>\n",
              "      <td>0.0</td>\n",
              "      <td>6703.0</td>\n",
              "      <td>65.7</td>\n",
              "      <td>19.0</td>\n",
              "      <td>w</td>\n",
              "      <td>10694.13</td>\n",
              "      <td>20687.81</td>\n",
              "      <td>5656.94</td>\n",
              "      <td>0.0</td>\n",
              "      <td>0.0</td>\n",
              "      <td>0.0</td>\n",
              "      <td>899.47</td>\n",
              "      <td>0.0</td>\n",
              "      <td>INDIVIDUAL</td>\n",
              "      <td>0.0</td>\n",
              "      <td>0.0</td>\n",
              "      <td>12407.0</td>\n",
              "      <td>10200.0</td>\n",
              "      <td>0</td>\n",
              "    </tr>\n",
              "  </tbody>\n",
              "</table>\n",
              "</div>"
            ],
            "text/plain": [
              "        loan_amnt        term  ...  total_rev_hi_lim default_ind\n",
              "485636    28000.0   36 months  ...          153100.0           0\n",
              "600099    15000.0   36 months  ...           11500.0           0\n",
              "675082     8000.0   36 months  ...           36000.0           0\n",
              "768472    27725.0   36 months  ...           47600.0           0\n",
              "435077    25725.0   36 months  ...           10200.0           0\n",
              "\n",
              "[5 rows x 34 columns]"
            ]
          },
          "metadata": {
            "tags": []
          },
          "execution_count": 239
        }
      ]
    },
    {
      "cell_type": "code",
      "metadata": {
        "id": "hTqiZ0spYhqt",
        "colab_type": "code",
        "colab": {
          "base_uri": "https://localhost:8080/"
        },
        "outputId": "8bca7a11-b278-4742-d70a-35b371e4ee3e"
      },
      "source": [
        "loan_df.columns[(loan_df.isnull().sum()/len(loan_df.index)*100) >2]"
      ],
      "execution_count": null,
      "outputs": [
        {
          "output_type": "execute_result",
          "data": {
            "text/plain": [
              "Index(['emp_length', 'tot_coll_amt', 'tot_cur_bal', 'total_rev_hi_lim'], dtype='object')"
            ]
          },
          "metadata": {
            "tags": []
          },
          "execution_count": 240
        }
      ]
    },
    {
      "cell_type": "markdown",
      "metadata": {
        "id": "GmgMCygAYhq6",
        "colab_type": "text"
      },
      "source": [
        "### Removing of all duplicate values if any"
      ]
    },
    {
      "cell_type": "code",
      "metadata": {
        "id": "l0RcSTj1Yhq7",
        "colab_type": "code",
        "colab": {}
      },
      "source": [
        "loan_df=loan_df.drop_duplicates()"
      ],
      "execution_count": null,
      "outputs": []
    },
    {
      "cell_type": "code",
      "metadata": {
        "id": "qxD3DIQHYhrC",
        "colab_type": "code",
        "colab": {
          "base_uri": "https://localhost:8080/"
        },
        "outputId": "342c8287-5d4d-40ed-98dd-ddcf47bc8a06"
      },
      "source": [
        "loan_df.info()"
      ],
      "execution_count": null,
      "outputs": [
        {
          "output_type": "stream",
          "text": [
            "<class 'pandas.core.frame.DataFrame'>\n",
            "Int64Index: 855969 entries, 0 to 855968\n",
            "Data columns (total 34 columns):\n",
            " #   Column                      Non-Null Count   Dtype  \n",
            "---  ------                      --------------   -----  \n",
            " 0   loan_amnt                   855969 non-null  float64\n",
            " 1   term                        855969 non-null  object \n",
            " 2   int_rate                    855969 non-null  float64\n",
            " 3   grade                       855969 non-null  object \n",
            " 4   emp_length                  812908 non-null  object \n",
            " 5   home_ownership              855969 non-null  object \n",
            " 6   annual_inc                  855969 non-null  float64\n",
            " 7   verification_status         855969 non-null  object \n",
            " 8   issue_d                     855969 non-null  object \n",
            " 9   pymnt_plan                  855969 non-null  object \n",
            " 10  purpose                     855969 non-null  object \n",
            " 11  dti                         855969 non-null  float64\n",
            " 12  delinq_2yrs                 855969 non-null  float64\n",
            " 13  inq_last_6mths              855969 non-null  float64\n",
            " 14  open_acc                    855969 non-null  float64\n",
            " 15  pub_rec                     855969 non-null  float64\n",
            " 16  revol_bal                   855969 non-null  float64\n",
            " 17  revol_util                  855523 non-null  float64\n",
            " 18  total_acc                   855969 non-null  float64\n",
            " 19  initial_list_status         855969 non-null  object \n",
            " 20  out_prncp                   855969 non-null  float64\n",
            " 21  total_pymnt                 855969 non-null  float64\n",
            " 22  total_rec_int               855969 non-null  float64\n",
            " 23  total_rec_late_fee          855969 non-null  float64\n",
            " 24  recoveries                  855969 non-null  float64\n",
            " 25  collection_recovery_fee     855969 non-null  float64\n",
            " 26  last_pymnt_amnt             855969 non-null  float64\n",
            " 27  collections_12_mths_ex_med  855913 non-null  float64\n",
            " 28  application_type            855969 non-null  object \n",
            " 29  acc_now_delinq              855969 non-null  float64\n",
            " 30  tot_coll_amt                788656 non-null  float64\n",
            " 31  tot_cur_bal                 788656 non-null  float64\n",
            " 32  total_rev_hi_lim            788656 non-null  float64\n",
            " 33  default_ind                 855969 non-null  int64  \n",
            "dtypes: float64(23), int64(1), object(10)\n",
            "memory usage: 228.6+ MB\n"
          ],
          "name": "stdout"
        }
      ]
    },
    {
      "cell_type": "code",
      "metadata": {
        "id": "SDkTqDR7YhsO",
        "colab_type": "code",
        "colab": {
          "base_uri": "https://localhost:8080/"
        },
        "outputId": "9d5d9ea1-b4d3-4648-dd4f-cb6c2591b8ba"
      },
      "source": [
        "loan_df.isnull().sum()/len(loan_df.index)*100"
      ],
      "execution_count": null,
      "outputs": [
        {
          "output_type": "execute_result",
          "data": {
            "text/plain": [
              "loan_amnt                     0.000000\n",
              "term                          0.000000\n",
              "int_rate                      0.000000\n",
              "grade                         0.000000\n",
              "emp_length                    5.030673\n",
              "home_ownership                0.000000\n",
              "annual_inc                    0.000000\n",
              "verification_status           0.000000\n",
              "issue_d                       0.000000\n",
              "pymnt_plan                    0.000000\n",
              "purpose                       0.000000\n",
              "dti                           0.000000\n",
              "delinq_2yrs                   0.000000\n",
              "inq_last_6mths                0.000000\n",
              "open_acc                      0.000000\n",
              "pub_rec                       0.000000\n",
              "revol_bal                     0.000000\n",
              "revol_util                    0.052105\n",
              "total_acc                     0.000000\n",
              "initial_list_status           0.000000\n",
              "out_prncp                     0.000000\n",
              "total_pymnt                   0.000000\n",
              "total_rec_int                 0.000000\n",
              "total_rec_late_fee            0.000000\n",
              "recoveries                    0.000000\n",
              "collection_recovery_fee       0.000000\n",
              "last_pymnt_amnt               0.000000\n",
              "collections_12_mths_ex_med    0.006542\n",
              "application_type              0.000000\n",
              "acc_now_delinq                0.000000\n",
              "tot_coll_amt                  7.863953\n",
              "tot_cur_bal                   7.863953\n",
              "total_rev_hi_lim              7.863953\n",
              "default_ind                   0.000000\n",
              "dtype: float64"
            ]
          },
          "metadata": {
            "tags": []
          },
          "execution_count": 243
        }
      ]
    },
    {
      "cell_type": "markdown",
      "metadata": {
        "id": "I0nXF9u_YhrI",
        "colab_type": "text"
      },
      "source": [
        "### Fixing data quality issue in issue_d "
      ]
    },
    {
      "cell_type": "code",
      "metadata": {
        "id": "UIBlc3M2YhrJ",
        "colab_type": "code",
        "colab": {}
      },
      "source": [
        "# Converting issue_d to datetime column\n",
        "loan_df.issue_d=pd.to_datetime(loan_df.issue_d)"
      ],
      "execution_count": null,
      "outputs": []
    },
    {
      "cell_type": "code",
      "metadata": {
        "id": "NMVzI9DaYhrP",
        "colab_type": "code",
        "colab": {
          "base_uri": "https://localhost:8080/"
        },
        "outputId": "d82f094d-f60b-48c1-8af8-92f20960b3ce"
      },
      "source": [
        "loan_df.loc[pd.isnull(loan_df['revol_util']), ['revol_util']]"
      ],
      "execution_count": null,
      "outputs": [
        {
          "output_type": "execute_result",
          "data": {
            "text/html": [
              "<div>\n",
              "<style scoped>\n",
              "    .dataframe tbody tr th:only-of-type {\n",
              "        vertical-align: middle;\n",
              "    }\n",
              "\n",
              "    .dataframe tbody tr th {\n",
              "        vertical-align: top;\n",
              "    }\n",
              "\n",
              "    .dataframe thead th {\n",
              "        text-align: right;\n",
              "    }\n",
              "</style>\n",
              "<table border=\"1\" class=\"dataframe\">\n",
              "  <thead>\n",
              "    <tr style=\"text-align: right;\">\n",
              "      <th></th>\n",
              "      <th>revol_util</th>\n",
              "    </tr>\n",
              "  </thead>\n",
              "  <tbody>\n",
              "    <tr>\n",
              "      <th>3563</th>\n",
              "      <td>NaN</td>\n",
              "    </tr>\n",
              "    <tr>\n",
              "      <th>4712</th>\n",
              "      <td>NaN</td>\n",
              "    </tr>\n",
              "    <tr>\n",
              "      <th>4942</th>\n",
              "      <td>NaN</td>\n",
              "    </tr>\n",
              "    <tr>\n",
              "      <th>11269</th>\n",
              "      <td>NaN</td>\n",
              "    </tr>\n",
              "    <tr>\n",
              "      <th>12026</th>\n",
              "      <td>NaN</td>\n",
              "    </tr>\n",
              "    <tr>\n",
              "      <th>...</th>\n",
              "      <td>...</td>\n",
              "    </tr>\n",
              "    <tr>\n",
              "      <th>841406</th>\n",
              "      <td>NaN</td>\n",
              "    </tr>\n",
              "    <tr>\n",
              "      <th>851788</th>\n",
              "      <td>NaN</td>\n",
              "    </tr>\n",
              "    <tr>\n",
              "      <th>851857</th>\n",
              "      <td>NaN</td>\n",
              "    </tr>\n",
              "    <tr>\n",
              "      <th>851923</th>\n",
              "      <td>NaN</td>\n",
              "    </tr>\n",
              "    <tr>\n",
              "      <th>855827</th>\n",
              "      <td>NaN</td>\n",
              "    </tr>\n",
              "  </tbody>\n",
              "</table>\n",
              "<p>446 rows × 1 columns</p>\n",
              "</div>"
            ],
            "text/plain": [
              "        revol_util\n",
              "3563           NaN\n",
              "4712           NaN\n",
              "4942           NaN\n",
              "11269          NaN\n",
              "12026          NaN\n",
              "...            ...\n",
              "841406         NaN\n",
              "851788         NaN\n",
              "851857         NaN\n",
              "851923         NaN\n",
              "855827         NaN\n",
              "\n",
              "[446 rows x 1 columns]"
            ]
          },
          "metadata": {
            "tags": []
          },
          "execution_count": 245
        }
      ]
    },
    {
      "cell_type": "code",
      "metadata": {
        "id": "Nk9yjzGUYhsc",
        "colab_type": "code",
        "colab": {
          "base_uri": "https://localhost:8080/"
        },
        "outputId": "ec2eb887-43dc-4387-bc8e-371bda106a8c"
      },
      "source": [
        "#Train data \n",
        "#Date Format{mm-dd-yyyy}\n",
        "\n",
        "loan_df['issue_d'] = pd.to_datetime(loan_df['issue_d'])\n",
        "\n",
        "start_date ='06-01-2007'\n",
        "end_date ='05-01-2015'\n",
        "\n",
        "mask = (loan_df['issue_d'] > start_date) & (loan_df['issue_d'] <= end_date)\n",
        "\n",
        "TrainData = loan_df.loc[mask]\n",
        "TrainData.head(4)"
      ],
      "execution_count": null,
      "outputs": [
        {
          "output_type": "execute_result",
          "data": {
            "text/html": [
              "<div>\n",
              "<style scoped>\n",
              "    .dataframe tbody tr th:only-of-type {\n",
              "        vertical-align: middle;\n",
              "    }\n",
              "\n",
              "    .dataframe tbody tr th {\n",
              "        vertical-align: top;\n",
              "    }\n",
              "\n",
              "    .dataframe thead th {\n",
              "        text-align: right;\n",
              "    }\n",
              "</style>\n",
              "<table border=\"1\" class=\"dataframe\">\n",
              "  <thead>\n",
              "    <tr style=\"text-align: right;\">\n",
              "      <th></th>\n",
              "      <th>loan_amnt</th>\n",
              "      <th>term</th>\n",
              "      <th>int_rate</th>\n",
              "      <th>grade</th>\n",
              "      <th>emp_length</th>\n",
              "      <th>home_ownership</th>\n",
              "      <th>annual_inc</th>\n",
              "      <th>verification_status</th>\n",
              "      <th>issue_d</th>\n",
              "      <th>pymnt_plan</th>\n",
              "      <th>purpose</th>\n",
              "      <th>dti</th>\n",
              "      <th>delinq_2yrs</th>\n",
              "      <th>inq_last_6mths</th>\n",
              "      <th>open_acc</th>\n",
              "      <th>pub_rec</th>\n",
              "      <th>revol_bal</th>\n",
              "      <th>revol_util</th>\n",
              "      <th>total_acc</th>\n",
              "      <th>initial_list_status</th>\n",
              "      <th>out_prncp</th>\n",
              "      <th>total_pymnt</th>\n",
              "      <th>total_rec_int</th>\n",
              "      <th>total_rec_late_fee</th>\n",
              "      <th>recoveries</th>\n",
              "      <th>collection_recovery_fee</th>\n",
              "      <th>last_pymnt_amnt</th>\n",
              "      <th>collections_12_mths_ex_med</th>\n",
              "      <th>application_type</th>\n",
              "      <th>acc_now_delinq</th>\n",
              "      <th>tot_coll_amt</th>\n",
              "      <th>tot_cur_bal</th>\n",
              "      <th>total_rev_hi_lim</th>\n",
              "      <th>default_ind</th>\n",
              "    </tr>\n",
              "  </thead>\n",
              "  <tbody>\n",
              "    <tr>\n",
              "      <th>0</th>\n",
              "      <td>5000.0</td>\n",
              "      <td>36 months</td>\n",
              "      <td>10.65</td>\n",
              "      <td>B</td>\n",
              "      <td>10+ years</td>\n",
              "      <td>RENT</td>\n",
              "      <td>24000.0</td>\n",
              "      <td>Verified</td>\n",
              "      <td>2011-12-01</td>\n",
              "      <td>n</td>\n",
              "      <td>credit_card</td>\n",
              "      <td>27.65</td>\n",
              "      <td>0.0</td>\n",
              "      <td>1.0</td>\n",
              "      <td>3.0</td>\n",
              "      <td>0.0</td>\n",
              "      <td>13648.0</td>\n",
              "      <td>83.7</td>\n",
              "      <td>9.0</td>\n",
              "      <td>f</td>\n",
              "      <td>0.0</td>\n",
              "      <td>5861.071414</td>\n",
              "      <td>861.07</td>\n",
              "      <td>0.00</td>\n",
              "      <td>0.00</td>\n",
              "      <td>0.00</td>\n",
              "      <td>171.62</td>\n",
              "      <td>0.0</td>\n",
              "      <td>INDIVIDUAL</td>\n",
              "      <td>0.0</td>\n",
              "      <td>NaN</td>\n",
              "      <td>NaN</td>\n",
              "      <td>NaN</td>\n",
              "      <td>0</td>\n",
              "    </tr>\n",
              "    <tr>\n",
              "      <th>1</th>\n",
              "      <td>2500.0</td>\n",
              "      <td>60 months</td>\n",
              "      <td>15.27</td>\n",
              "      <td>C</td>\n",
              "      <td>&lt; 1 year</td>\n",
              "      <td>RENT</td>\n",
              "      <td>30000.0</td>\n",
              "      <td>Source Verified</td>\n",
              "      <td>2011-12-01</td>\n",
              "      <td>n</td>\n",
              "      <td>car</td>\n",
              "      <td>1.00</td>\n",
              "      <td>0.0</td>\n",
              "      <td>5.0</td>\n",
              "      <td>3.0</td>\n",
              "      <td>0.0</td>\n",
              "      <td>1687.0</td>\n",
              "      <td>9.4</td>\n",
              "      <td>4.0</td>\n",
              "      <td>f</td>\n",
              "      <td>0.0</td>\n",
              "      <td>1008.710000</td>\n",
              "      <td>435.17</td>\n",
              "      <td>0.00</td>\n",
              "      <td>117.08</td>\n",
              "      <td>1.11</td>\n",
              "      <td>119.66</td>\n",
              "      <td>0.0</td>\n",
              "      <td>INDIVIDUAL</td>\n",
              "      <td>0.0</td>\n",
              "      <td>NaN</td>\n",
              "      <td>NaN</td>\n",
              "      <td>NaN</td>\n",
              "      <td>1</td>\n",
              "    </tr>\n",
              "    <tr>\n",
              "      <th>2</th>\n",
              "      <td>2400.0</td>\n",
              "      <td>36 months</td>\n",
              "      <td>15.96</td>\n",
              "      <td>C</td>\n",
              "      <td>10+ years</td>\n",
              "      <td>RENT</td>\n",
              "      <td>12252.0</td>\n",
              "      <td>Not Verified</td>\n",
              "      <td>2011-12-01</td>\n",
              "      <td>n</td>\n",
              "      <td>small_business</td>\n",
              "      <td>8.72</td>\n",
              "      <td>0.0</td>\n",
              "      <td>2.0</td>\n",
              "      <td>2.0</td>\n",
              "      <td>0.0</td>\n",
              "      <td>2956.0</td>\n",
              "      <td>98.5</td>\n",
              "      <td>10.0</td>\n",
              "      <td>f</td>\n",
              "      <td>0.0</td>\n",
              "      <td>3003.653644</td>\n",
              "      <td>603.65</td>\n",
              "      <td>0.00</td>\n",
              "      <td>0.00</td>\n",
              "      <td>0.00</td>\n",
              "      <td>649.91</td>\n",
              "      <td>0.0</td>\n",
              "      <td>INDIVIDUAL</td>\n",
              "      <td>0.0</td>\n",
              "      <td>NaN</td>\n",
              "      <td>NaN</td>\n",
              "      <td>NaN</td>\n",
              "      <td>0</td>\n",
              "    </tr>\n",
              "    <tr>\n",
              "      <th>3</th>\n",
              "      <td>10000.0</td>\n",
              "      <td>36 months</td>\n",
              "      <td>13.49</td>\n",
              "      <td>C</td>\n",
              "      <td>10+ years</td>\n",
              "      <td>RENT</td>\n",
              "      <td>49200.0</td>\n",
              "      <td>Source Verified</td>\n",
              "      <td>2011-12-01</td>\n",
              "      <td>n</td>\n",
              "      <td>other</td>\n",
              "      <td>20.00</td>\n",
              "      <td>0.0</td>\n",
              "      <td>1.0</td>\n",
              "      <td>10.0</td>\n",
              "      <td>0.0</td>\n",
              "      <td>5598.0</td>\n",
              "      <td>21.0</td>\n",
              "      <td>37.0</td>\n",
              "      <td>f</td>\n",
              "      <td>0.0</td>\n",
              "      <td>12226.302212</td>\n",
              "      <td>2209.33</td>\n",
              "      <td>16.97</td>\n",
              "      <td>0.00</td>\n",
              "      <td>0.00</td>\n",
              "      <td>357.48</td>\n",
              "      <td>0.0</td>\n",
              "      <td>INDIVIDUAL</td>\n",
              "      <td>0.0</td>\n",
              "      <td>NaN</td>\n",
              "      <td>NaN</td>\n",
              "      <td>NaN</td>\n",
              "      <td>0</td>\n",
              "    </tr>\n",
              "  </tbody>\n",
              "</table>\n",
              "</div>"
            ],
            "text/plain": [
              "   loan_amnt        term  int_rate  ... tot_cur_bal total_rev_hi_lim default_ind\n",
              "0     5000.0   36 months     10.65  ...         NaN              NaN           0\n",
              "1     2500.0   60 months     15.27  ...         NaN              NaN           1\n",
              "2     2400.0   36 months     15.96  ...         NaN              NaN           0\n",
              "3    10000.0   36 months     13.49  ...         NaN              NaN           0\n",
              "\n",
              "[4 rows x 34 columns]"
            ]
          },
          "metadata": {
            "tags": []
          },
          "execution_count": 246
        }
      ]
    },
    {
      "cell_type": "code",
      "metadata": {
        "id": "dsHSVHlrYhsj",
        "colab_type": "code",
        "colab": {
          "base_uri": "https://localhost:8080/"
        },
        "outputId": "766622d8-027f-459d-cf55-77cd5a7ae0f9"
      },
      "source": [
        "#Test Data\n",
        "#Date Format{yyy-mm-dd}\n",
        "\n",
        "loan_df['issue_d'] = pd.to_datetime(loan_df['issue_d'])\n",
        "\n",
        "start_date ='06-06-2015'\n",
        "end_date ='12-01-2015'\n",
        "\n",
        "mask = (loan_df['issue_d'] > start_date) & (loan_df['issue_d'] <= end_date)\n",
        "\n",
        "TestData = loan_df.loc[mask]\n",
        "TestData.head(4)"
      ],
      "execution_count": null,
      "outputs": [
        {
          "output_type": "execute_result",
          "data": {
            "text/html": [
              "<div>\n",
              "<style scoped>\n",
              "    .dataframe tbody tr th:only-of-type {\n",
              "        vertical-align: middle;\n",
              "    }\n",
              "\n",
              "    .dataframe tbody tr th {\n",
              "        vertical-align: top;\n",
              "    }\n",
              "\n",
              "    .dataframe thead th {\n",
              "        text-align: right;\n",
              "    }\n",
              "</style>\n",
              "<table border=\"1\" class=\"dataframe\">\n",
              "  <thead>\n",
              "    <tr style=\"text-align: right;\">\n",
              "      <th></th>\n",
              "      <th>loan_amnt</th>\n",
              "      <th>term</th>\n",
              "      <th>int_rate</th>\n",
              "      <th>grade</th>\n",
              "      <th>emp_length</th>\n",
              "      <th>home_ownership</th>\n",
              "      <th>annual_inc</th>\n",
              "      <th>verification_status</th>\n",
              "      <th>issue_d</th>\n",
              "      <th>pymnt_plan</th>\n",
              "      <th>purpose</th>\n",
              "      <th>dti</th>\n",
              "      <th>delinq_2yrs</th>\n",
              "      <th>inq_last_6mths</th>\n",
              "      <th>open_acc</th>\n",
              "      <th>pub_rec</th>\n",
              "      <th>revol_bal</th>\n",
              "      <th>revol_util</th>\n",
              "      <th>total_acc</th>\n",
              "      <th>initial_list_status</th>\n",
              "      <th>out_prncp</th>\n",
              "      <th>total_pymnt</th>\n",
              "      <th>total_rec_int</th>\n",
              "      <th>total_rec_late_fee</th>\n",
              "      <th>recoveries</th>\n",
              "      <th>collection_recovery_fee</th>\n",
              "      <th>last_pymnt_amnt</th>\n",
              "      <th>collections_12_mths_ex_med</th>\n",
              "      <th>application_type</th>\n",
              "      <th>acc_now_delinq</th>\n",
              "      <th>tot_coll_amt</th>\n",
              "      <th>tot_cur_bal</th>\n",
              "      <th>total_rev_hi_lim</th>\n",
              "      <th>default_ind</th>\n",
              "    </tr>\n",
              "  </thead>\n",
              "  <tbody>\n",
              "    <tr>\n",
              "      <th>452272</th>\n",
              "      <td>25000.0</td>\n",
              "      <td>36 months</td>\n",
              "      <td>5.32</td>\n",
              "      <td>A</td>\n",
              "      <td>1 year</td>\n",
              "      <td>MORTGAGE</td>\n",
              "      <td>150000.0</td>\n",
              "      <td>Not Verified</td>\n",
              "      <td>2015-12-01</td>\n",
              "      <td>n</td>\n",
              "      <td>credit_card</td>\n",
              "      <td>9.54</td>\n",
              "      <td>0.0</td>\n",
              "      <td>0.0</td>\n",
              "      <td>7.0</td>\n",
              "      <td>0.0</td>\n",
              "      <td>19339.0</td>\n",
              "      <td>42.5</td>\n",
              "      <td>18.0</td>\n",
              "      <td>w</td>\n",
              "      <td>24357.97</td>\n",
              "      <td>682.67</td>\n",
              "      <td>40.64</td>\n",
              "      <td>0.0</td>\n",
              "      <td>0.0</td>\n",
              "      <td>0.0</td>\n",
              "      <td>701.14</td>\n",
              "      <td>0.0</td>\n",
              "      <td>INDIVIDUAL</td>\n",
              "      <td>0.0</td>\n",
              "      <td>0.0</td>\n",
              "      <td>430856.0</td>\n",
              "      <td>45500.0</td>\n",
              "      <td>0</td>\n",
              "    </tr>\n",
              "    <tr>\n",
              "      <th>452273</th>\n",
              "      <td>18000.0</td>\n",
              "      <td>60 months</td>\n",
              "      <td>19.48</td>\n",
              "      <td>E</td>\n",
              "      <td>7 years</td>\n",
              "      <td>RENT</td>\n",
              "      <td>150000.0</td>\n",
              "      <td>Not Verified</td>\n",
              "      <td>2015-12-01</td>\n",
              "      <td>n</td>\n",
              "      <td>debt_consolidation</td>\n",
              "      <td>9.39</td>\n",
              "      <td>0.0</td>\n",
              "      <td>1.0</td>\n",
              "      <td>18.0</td>\n",
              "      <td>1.0</td>\n",
              "      <td>14052.0</td>\n",
              "      <td>40.7</td>\n",
              "      <td>27.0</td>\n",
              "      <td>w</td>\n",
              "      <td>17820.50</td>\n",
              "      <td>286.64</td>\n",
              "      <td>107.14</td>\n",
              "      <td>0.0</td>\n",
              "      <td>0.0</td>\n",
              "      <td>0.0</td>\n",
              "      <td>335.34</td>\n",
              "      <td>0.0</td>\n",
              "      <td>INDIVIDUAL</td>\n",
              "      <td>0.0</td>\n",
              "      <td>60.0</td>\n",
              "      <td>36247.0</td>\n",
              "      <td>34500.0</td>\n",
              "      <td>0</td>\n",
              "    </tr>\n",
              "    <tr>\n",
              "      <th>452274</th>\n",
              "      <td>7000.0</td>\n",
              "      <td>36 months</td>\n",
              "      <td>7.49</td>\n",
              "      <td>A</td>\n",
              "      <td>10+ years</td>\n",
              "      <td>MORTGAGE</td>\n",
              "      <td>59000.0</td>\n",
              "      <td>Not Verified</td>\n",
              "      <td>2015-12-01</td>\n",
              "      <td>n</td>\n",
              "      <td>credit_card</td>\n",
              "      <td>13.06</td>\n",
              "      <td>1.0</td>\n",
              "      <td>1.0</td>\n",
              "      <td>10.0</td>\n",
              "      <td>0.0</td>\n",
              "      <td>10467.0</td>\n",
              "      <td>24.2</td>\n",
              "      <td>34.0</td>\n",
              "      <td>w</td>\n",
              "      <td>7000.00</td>\n",
              "      <td>0.00</td>\n",
              "      <td>0.00</td>\n",
              "      <td>0.0</td>\n",
              "      <td>0.0</td>\n",
              "      <td>0.0</td>\n",
              "      <td>0.00</td>\n",
              "      <td>0.0</td>\n",
              "      <td>INDIVIDUAL</td>\n",
              "      <td>0.0</td>\n",
              "      <td>0.0</td>\n",
              "      <td>55222.0</td>\n",
              "      <td>43200.0</td>\n",
              "      <td>0</td>\n",
              "    </tr>\n",
              "    <tr>\n",
              "      <th>452275</th>\n",
              "      <td>20000.0</td>\n",
              "      <td>36 months</td>\n",
              "      <td>17.97</td>\n",
              "      <td>D</td>\n",
              "      <td>7 years</td>\n",
              "      <td>MORTGAGE</td>\n",
              "      <td>180000.0</td>\n",
              "      <td>Not Verified</td>\n",
              "      <td>2015-12-01</td>\n",
              "      <td>n</td>\n",
              "      <td>debt_consolidation</td>\n",
              "      <td>25.10</td>\n",
              "      <td>0.0</td>\n",
              "      <td>0.0</td>\n",
              "      <td>13.0</td>\n",
              "      <td>0.0</td>\n",
              "      <td>59126.0</td>\n",
              "      <td>92.1</td>\n",
              "      <td>30.0</td>\n",
              "      <td>w</td>\n",
              "      <td>20000.00</td>\n",
              "      <td>0.00</td>\n",
              "      <td>0.00</td>\n",
              "      <td>0.0</td>\n",
              "      <td>0.0</td>\n",
              "      <td>0.0</td>\n",
              "      <td>0.00</td>\n",
              "      <td>0.0</td>\n",
              "      <td>INDIVIDUAL</td>\n",
              "      <td>0.0</td>\n",
              "      <td>418.0</td>\n",
              "      <td>277227.0</td>\n",
              "      <td>64200.0</td>\n",
              "      <td>0</td>\n",
              "    </tr>\n",
              "  </tbody>\n",
              "</table>\n",
              "</div>"
            ],
            "text/plain": [
              "        loan_amnt        term  ...  total_rev_hi_lim default_ind\n",
              "452272    25000.0   36 months  ...           45500.0           0\n",
              "452273    18000.0   60 months  ...           34500.0           0\n",
              "452274     7000.0   36 months  ...           43200.0           0\n",
              "452275    20000.0   36 months  ...           64200.0           0\n",
              "\n",
              "[4 rows x 34 columns]"
            ]
          },
          "metadata": {
            "tags": []
          },
          "execution_count": 247
        }
      ]
    },
    {
      "cell_type": "markdown",
      "metadata": {
        "id": "NNNLn3cIYhsq",
        "colab_type": "text"
      },
      "source": [
        "## EDA\n"
      ]
    },
    {
      "cell_type": "markdown",
      "metadata": {
        "id": "8Xag36BG8W_y",
        "colab_type": "text"
      },
      "source": [
        "### Univariate Analysis"
      ]
    },
    {
      "cell_type": "markdown",
      "metadata": {
        "id": "KaMKMEqXYhsr",
        "colab_type": "text"
      },
      "source": [
        "#### To find the main factors that can be used to predict defaulters. Let us create a new dataset with just data of the  of members of the defaulters"
      ]
    },
    {
      "cell_type": "code",
      "metadata": {
        "id": "B8mWL_gyYhss",
        "colab_type": "code",
        "colab": {}
      },
      "source": [
        "defaulters = TrainData[TrainData['default_ind']==1]"
      ],
      "execution_count": null,
      "outputs": []
    },
    {
      "cell_type": "code",
      "metadata": {
        "id": "BFSw1Z8_Yhsz",
        "colab_type": "code",
        "colab": {
          "base_uri": "https://localhost:8080/",
          "height": 609
        },
        "outputId": "6b8d93c7-291b-4f36-b2e3-be2dcf69ea9d"
      },
      "source": [
        "defaulters"
      ],
      "execution_count": null,
      "outputs": [
        {
          "output_type": "execute_result",
          "data": {
            "text/html": [
              "<div>\n",
              "<style scoped>\n",
              "    .dataframe tbody tr th:only-of-type {\n",
              "        vertical-align: middle;\n",
              "    }\n",
              "\n",
              "    .dataframe tbody tr th {\n",
              "        vertical-align: top;\n",
              "    }\n",
              "\n",
              "    .dataframe thead th {\n",
              "        text-align: right;\n",
              "    }\n",
              "</style>\n",
              "<table border=\"1\" class=\"dataframe\">\n",
              "  <thead>\n",
              "    <tr style=\"text-align: right;\">\n",
              "      <th></th>\n",
              "      <th>loan_amnt</th>\n",
              "      <th>term</th>\n",
              "      <th>int_rate</th>\n",
              "      <th>grade</th>\n",
              "      <th>emp_length</th>\n",
              "      <th>home_ownership</th>\n",
              "      <th>annual_inc</th>\n",
              "      <th>verification_status</th>\n",
              "      <th>issue_d</th>\n",
              "      <th>pymnt_plan</th>\n",
              "      <th>purpose</th>\n",
              "      <th>dti</th>\n",
              "      <th>delinq_2yrs</th>\n",
              "      <th>inq_last_6mths</th>\n",
              "      <th>open_acc</th>\n",
              "      <th>pub_rec</th>\n",
              "      <th>revol_bal</th>\n",
              "      <th>revol_util</th>\n",
              "      <th>total_acc</th>\n",
              "      <th>initial_list_status</th>\n",
              "      <th>out_prncp</th>\n",
              "      <th>total_pymnt</th>\n",
              "      <th>total_rec_int</th>\n",
              "      <th>total_rec_late_fee</th>\n",
              "      <th>recoveries</th>\n",
              "      <th>collection_recovery_fee</th>\n",
              "      <th>last_pymnt_amnt</th>\n",
              "      <th>collections_12_mths_ex_med</th>\n",
              "      <th>application_type</th>\n",
              "      <th>acc_now_delinq</th>\n",
              "      <th>tot_coll_amt</th>\n",
              "      <th>tot_cur_bal</th>\n",
              "      <th>total_rev_hi_lim</th>\n",
              "      <th>default_ind</th>\n",
              "    </tr>\n",
              "  </thead>\n",
              "  <tbody>\n",
              "    <tr>\n",
              "      <th>1</th>\n",
              "      <td>2500.0</td>\n",
              "      <td>60 months</td>\n",
              "      <td>15.27</td>\n",
              "      <td>C</td>\n",
              "      <td>&lt; 1 year</td>\n",
              "      <td>RENT</td>\n",
              "      <td>30000.0</td>\n",
              "      <td>Source Verified</td>\n",
              "      <td>2011-12-01</td>\n",
              "      <td>n</td>\n",
              "      <td>car</td>\n",
              "      <td>1.00</td>\n",
              "      <td>0.0</td>\n",
              "      <td>5.0</td>\n",
              "      <td>3.0</td>\n",
              "      <td>0.0</td>\n",
              "      <td>1687.0</td>\n",
              "      <td>9.4</td>\n",
              "      <td>4.0</td>\n",
              "      <td>f</td>\n",
              "      <td>0.0</td>\n",
              "      <td>1008.71</td>\n",
              "      <td>435.17</td>\n",
              "      <td>0.0</td>\n",
              "      <td>117.08</td>\n",
              "      <td>1.1100</td>\n",
              "      <td>119.66</td>\n",
              "      <td>0.0</td>\n",
              "      <td>INDIVIDUAL</td>\n",
              "      <td>0.0</td>\n",
              "      <td>NaN</td>\n",
              "      <td>NaN</td>\n",
              "      <td>NaN</td>\n",
              "      <td>1</td>\n",
              "    </tr>\n",
              "    <tr>\n",
              "      <th>8</th>\n",
              "      <td>5600.0</td>\n",
              "      <td>60 months</td>\n",
              "      <td>21.28</td>\n",
              "      <td>F</td>\n",
              "      <td>4 years</td>\n",
              "      <td>OWN</td>\n",
              "      <td>40000.0</td>\n",
              "      <td>Source Verified</td>\n",
              "      <td>2011-12-01</td>\n",
              "      <td>n</td>\n",
              "      <td>small_business</td>\n",
              "      <td>5.55</td>\n",
              "      <td>0.0</td>\n",
              "      <td>2.0</td>\n",
              "      <td>11.0</td>\n",
              "      <td>0.0</td>\n",
              "      <td>5210.0</td>\n",
              "      <td>32.6</td>\n",
              "      <td>13.0</td>\n",
              "      <td>f</td>\n",
              "      <td>0.0</td>\n",
              "      <td>646.02</td>\n",
              "      <td>294.94</td>\n",
              "      <td>0.0</td>\n",
              "      <td>189.06</td>\n",
              "      <td>2.0900</td>\n",
              "      <td>152.39</td>\n",
              "      <td>0.0</td>\n",
              "      <td>INDIVIDUAL</td>\n",
              "      <td>0.0</td>\n",
              "      <td>NaN</td>\n",
              "      <td>NaN</td>\n",
              "      <td>NaN</td>\n",
              "      <td>1</td>\n",
              "    </tr>\n",
              "    <tr>\n",
              "      <th>9</th>\n",
              "      <td>5375.0</td>\n",
              "      <td>60 months</td>\n",
              "      <td>12.69</td>\n",
              "      <td>B</td>\n",
              "      <td>&lt; 1 year</td>\n",
              "      <td>RENT</td>\n",
              "      <td>15000.0</td>\n",
              "      <td>Verified</td>\n",
              "      <td>2011-12-01</td>\n",
              "      <td>n</td>\n",
              "      <td>other</td>\n",
              "      <td>18.08</td>\n",
              "      <td>0.0</td>\n",
              "      <td>0.0</td>\n",
              "      <td>2.0</td>\n",
              "      <td>0.0</td>\n",
              "      <td>9279.0</td>\n",
              "      <td>36.5</td>\n",
              "      <td>3.0</td>\n",
              "      <td>f</td>\n",
              "      <td>0.0</td>\n",
              "      <td>1476.19</td>\n",
              "      <td>533.42</td>\n",
              "      <td>0.0</td>\n",
              "      <td>269.29</td>\n",
              "      <td>2.5200</td>\n",
              "      <td>121.45</td>\n",
              "      <td>0.0</td>\n",
              "      <td>INDIVIDUAL</td>\n",
              "      <td>0.0</td>\n",
              "      <td>NaN</td>\n",
              "      <td>NaN</td>\n",
              "      <td>NaN</td>\n",
              "      <td>1</td>\n",
              "    </tr>\n",
              "    <tr>\n",
              "      <th>12</th>\n",
              "      <td>9000.0</td>\n",
              "      <td>36 months</td>\n",
              "      <td>13.49</td>\n",
              "      <td>C</td>\n",
              "      <td>&lt; 1 year</td>\n",
              "      <td>RENT</td>\n",
              "      <td>30000.0</td>\n",
              "      <td>Source Verified</td>\n",
              "      <td>2011-12-01</td>\n",
              "      <td>n</td>\n",
              "      <td>debt_consolidation</td>\n",
              "      <td>10.08</td>\n",
              "      <td>0.0</td>\n",
              "      <td>1.0</td>\n",
              "      <td>4.0</td>\n",
              "      <td>0.0</td>\n",
              "      <td>10452.0</td>\n",
              "      <td>91.7</td>\n",
              "      <td>9.0</td>\n",
              "      <td>f</td>\n",
              "      <td>0.0</td>\n",
              "      <td>2270.70</td>\n",
              "      <td>570.26</td>\n",
              "      <td>0.0</td>\n",
              "      <td>444.30</td>\n",
              "      <td>4.1600</td>\n",
              "      <td>305.38</td>\n",
              "      <td>0.0</td>\n",
              "      <td>INDIVIDUAL</td>\n",
              "      <td>0.0</td>\n",
              "      <td>NaN</td>\n",
              "      <td>NaN</td>\n",
              "      <td>NaN</td>\n",
              "      <td>1</td>\n",
              "    </tr>\n",
              "    <tr>\n",
              "      <th>14</th>\n",
              "      <td>10000.0</td>\n",
              "      <td>36 months</td>\n",
              "      <td>10.65</td>\n",
              "      <td>B</td>\n",
              "      <td>3 years</td>\n",
              "      <td>RENT</td>\n",
              "      <td>100000.0</td>\n",
              "      <td>Source Verified</td>\n",
              "      <td>2011-12-01</td>\n",
              "      <td>n</td>\n",
              "      <td>other</td>\n",
              "      <td>7.06</td>\n",
              "      <td>0.0</td>\n",
              "      <td>2.0</td>\n",
              "      <td>14.0</td>\n",
              "      <td>0.0</td>\n",
              "      <td>11997.0</td>\n",
              "      <td>55.5</td>\n",
              "      <td>29.0</td>\n",
              "      <td>f</td>\n",
              "      <td>0.0</td>\n",
              "      <td>7471.99</td>\n",
              "      <td>1393.42</td>\n",
              "      <td>0.0</td>\n",
              "      <td>645.10</td>\n",
              "      <td>6.3145</td>\n",
              "      <td>325.74</td>\n",
              "      <td>0.0</td>\n",
              "      <td>INDIVIDUAL</td>\n",
              "      <td>0.0</td>\n",
              "      <td>NaN</td>\n",
              "      <td>NaN</td>\n",
              "      <td>NaN</td>\n",
              "      <td>1</td>\n",
              "    </tr>\n",
              "    <tr>\n",
              "      <th>...</th>\n",
              "      <td>...</td>\n",
              "      <td>...</td>\n",
              "      <td>...</td>\n",
              "      <td>...</td>\n",
              "      <td>...</td>\n",
              "      <td>...</td>\n",
              "      <td>...</td>\n",
              "      <td>...</td>\n",
              "      <td>...</td>\n",
              "      <td>...</td>\n",
              "      <td>...</td>\n",
              "      <td>...</td>\n",
              "      <td>...</td>\n",
              "      <td>...</td>\n",
              "      <td>...</td>\n",
              "      <td>...</td>\n",
              "      <td>...</td>\n",
              "      <td>...</td>\n",
              "      <td>...</td>\n",
              "      <td>...</td>\n",
              "      <td>...</td>\n",
              "      <td>...</td>\n",
              "      <td>...</td>\n",
              "      <td>...</td>\n",
              "      <td>...</td>\n",
              "      <td>...</td>\n",
              "      <td>...</td>\n",
              "      <td>...</td>\n",
              "      <td>...</td>\n",
              "      <td>...</td>\n",
              "      <td>...</td>\n",
              "      <td>...</td>\n",
              "      <td>...</td>\n",
              "      <td>...</td>\n",
              "    </tr>\n",
              "    <tr>\n",
              "      <th>855896</th>\n",
              "      <td>12000.0</td>\n",
              "      <td>36 months</td>\n",
              "      <td>17.86</td>\n",
              "      <td>D</td>\n",
              "      <td>9 years</td>\n",
              "      <td>RENT</td>\n",
              "      <td>42000.0</td>\n",
              "      <td>Verified</td>\n",
              "      <td>2015-01-01</td>\n",
              "      <td>n</td>\n",
              "      <td>debt_consolidation</td>\n",
              "      <td>26.74</td>\n",
              "      <td>1.0</td>\n",
              "      <td>0.0</td>\n",
              "      <td>7.0</td>\n",
              "      <td>0.0</td>\n",
              "      <td>1294.0</td>\n",
              "      <td>34.1</td>\n",
              "      <td>21.0</td>\n",
              "      <td>w</td>\n",
              "      <td>0.0</td>\n",
              "      <td>3007.12</td>\n",
              "      <td>1144.88</td>\n",
              "      <td>0.0</td>\n",
              "      <td>0.00</td>\n",
              "      <td>0.0000</td>\n",
              "      <td>432.99</td>\n",
              "      <td>0.0</td>\n",
              "      <td>INDIVIDUAL</td>\n",
              "      <td>0.0</td>\n",
              "      <td>0.0</td>\n",
              "      <td>51882.0</td>\n",
              "      <td>3800.0</td>\n",
              "      <td>1</td>\n",
              "    </tr>\n",
              "    <tr>\n",
              "      <th>855901</th>\n",
              "      <td>2725.0</td>\n",
              "      <td>36 months</td>\n",
              "      <td>17.86</td>\n",
              "      <td>D</td>\n",
              "      <td>NaN</td>\n",
              "      <td>MORTGAGE</td>\n",
              "      <td>47784.0</td>\n",
              "      <td>Verified</td>\n",
              "      <td>2015-01-01</td>\n",
              "      <td>n</td>\n",
              "      <td>debt_consolidation</td>\n",
              "      <td>14.69</td>\n",
              "      <td>1.0</td>\n",
              "      <td>1.0</td>\n",
              "      <td>10.0</td>\n",
              "      <td>1.0</td>\n",
              "      <td>1963.0</td>\n",
              "      <td>33.8</td>\n",
              "      <td>18.0</td>\n",
              "      <td>f</td>\n",
              "      <td>0.0</td>\n",
              "      <td>590.89</td>\n",
              "      <td>231.68</td>\n",
              "      <td>0.0</td>\n",
              "      <td>0.00</td>\n",
              "      <td>0.0000</td>\n",
              "      <td>98.33</td>\n",
              "      <td>0.0</td>\n",
              "      <td>INDIVIDUAL</td>\n",
              "      <td>0.0</td>\n",
              "      <td>0.0</td>\n",
              "      <td>162837.0</td>\n",
              "      <td>5800.0</td>\n",
              "      <td>1</td>\n",
              "    </tr>\n",
              "    <tr>\n",
              "      <th>855922</th>\n",
              "      <td>14000.0</td>\n",
              "      <td>36 months</td>\n",
              "      <td>15.99</td>\n",
              "      <td>D</td>\n",
              "      <td>5 years</td>\n",
              "      <td>MORTGAGE</td>\n",
              "      <td>69000.0</td>\n",
              "      <td>Verified</td>\n",
              "      <td>2015-01-01</td>\n",
              "      <td>n</td>\n",
              "      <td>home_improvement</td>\n",
              "      <td>8.23</td>\n",
              "      <td>0.0</td>\n",
              "      <td>0.0</td>\n",
              "      <td>9.0</td>\n",
              "      <td>0.0</td>\n",
              "      <td>7755.0</td>\n",
              "      <td>64.1</td>\n",
              "      <td>15.0</td>\n",
              "      <td>f</td>\n",
              "      <td>0.0</td>\n",
              "      <td>3420.04</td>\n",
              "      <td>1193.55</td>\n",
              "      <td>0.0</td>\n",
              "      <td>0.00</td>\n",
              "      <td>0.0000</td>\n",
              "      <td>492.13</td>\n",
              "      <td>0.0</td>\n",
              "      <td>INDIVIDUAL</td>\n",
              "      <td>0.0</td>\n",
              "      <td>0.0</td>\n",
              "      <td>22279.0</td>\n",
              "      <td>12100.0</td>\n",
              "      <td>1</td>\n",
              "    </tr>\n",
              "    <tr>\n",
              "      <th>855941</th>\n",
              "      <td>4200.0</td>\n",
              "      <td>36 months</td>\n",
              "      <td>15.99</td>\n",
              "      <td>D</td>\n",
              "      <td>10+ years</td>\n",
              "      <td>MORTGAGE</td>\n",
              "      <td>48000.0</td>\n",
              "      <td>Verified</td>\n",
              "      <td>2015-01-01</td>\n",
              "      <td>n</td>\n",
              "      <td>medical</td>\n",
              "      <td>36.93</td>\n",
              "      <td>0.0</td>\n",
              "      <td>0.0</td>\n",
              "      <td>13.0</td>\n",
              "      <td>0.0</td>\n",
              "      <td>12943.0</td>\n",
              "      <td>63.4</td>\n",
              "      <td>45.0</td>\n",
              "      <td>f</td>\n",
              "      <td>0.0</td>\n",
              "      <td>1026.02</td>\n",
              "      <td>358.06</td>\n",
              "      <td>0.0</td>\n",
              "      <td>0.00</td>\n",
              "      <td>0.0000</td>\n",
              "      <td>147.64</td>\n",
              "      <td>0.0</td>\n",
              "      <td>INDIVIDUAL</td>\n",
              "      <td>0.0</td>\n",
              "      <td>0.0</td>\n",
              "      <td>207975.0</td>\n",
              "      <td>20400.0</td>\n",
              "      <td>1</td>\n",
              "    </tr>\n",
              "    <tr>\n",
              "      <th>855961</th>\n",
              "      <td>10850.0</td>\n",
              "      <td>36 months</td>\n",
              "      <td>19.24</td>\n",
              "      <td>E</td>\n",
              "      <td>NaN</td>\n",
              "      <td>OWN</td>\n",
              "      <td>32000.0</td>\n",
              "      <td>Verified</td>\n",
              "      <td>2015-01-01</td>\n",
              "      <td>n</td>\n",
              "      <td>debt_consolidation</td>\n",
              "      <td>29.44</td>\n",
              "      <td>0.0</td>\n",
              "      <td>1.0</td>\n",
              "      <td>9.0</td>\n",
              "      <td>0.0</td>\n",
              "      <td>6987.0</td>\n",
              "      <td>41.6</td>\n",
              "      <td>20.0</td>\n",
              "      <td>f</td>\n",
              "      <td>0.0</td>\n",
              "      <td>2396.05</td>\n",
              "      <td>990.28</td>\n",
              "      <td>0.0</td>\n",
              "      <td>0.00</td>\n",
              "      <td>0.0000</td>\n",
              "      <td>25.00</td>\n",
              "      <td>0.0</td>\n",
              "      <td>INDIVIDUAL</td>\n",
              "      <td>0.0</td>\n",
              "      <td>972.0</td>\n",
              "      <td>53777.0</td>\n",
              "      <td>16800.0</td>\n",
              "      <td>1</td>\n",
              "    </tr>\n",
              "  </tbody>\n",
              "</table>\n",
              "<p>46156 rows × 34 columns</p>\n",
              "</div>"
            ],
            "text/plain": [
              "        loan_amnt        term  ...  total_rev_hi_lim default_ind\n",
              "1          2500.0   60 months  ...               NaN           1\n",
              "8          5600.0   60 months  ...               NaN           1\n",
              "9          5375.0   60 months  ...               NaN           1\n",
              "12         9000.0   36 months  ...               NaN           1\n",
              "14        10000.0   36 months  ...               NaN           1\n",
              "...           ...         ...  ...               ...         ...\n",
              "855896    12000.0   36 months  ...            3800.0           1\n",
              "855901     2725.0   36 months  ...            5800.0           1\n",
              "855922    14000.0   36 months  ...           12100.0           1\n",
              "855941     4200.0   36 months  ...           20400.0           1\n",
              "855961    10850.0   36 months  ...           16800.0           1\n",
              "\n",
              "[46156 rows x 34 columns]"
            ]
          },
          "metadata": {
            "tags": []
          },
          "execution_count": 99
        }
      ]
    },
    {
      "cell_type": "code",
      "metadata": {
        "id": "-bAMZig4Yhs5",
        "colab_type": "code",
        "colab": {
          "base_uri": "https://localhost:8080/",
          "height": 334
        },
        "outputId": "ce9746cb-c0c4-44dd-bf2d-7a5411bec14b"
      },
      "source": [
        "# Loan Status\n",
        "default_ind_count = TrainData['default_ind'].value_counts()\n",
        "print(default_ind_count)\n",
        "default_ind_count.plot.bar()"
      ],
      "execution_count": null,
      "outputs": [
        {
          "output_type": "stream",
          "text": [
            "0    552821\n",
            "1     46156\n",
            "Name: default_ind, dtype: int64\n"
          ],
          "name": "stdout"
        },
        {
          "output_type": "execute_result",
          "data": {
            "text/plain": [
              "<matplotlib.axes._subplots.AxesSubplot at 0x7f6041629240>"
            ]
          },
          "metadata": {
            "tags": []
          },
          "execution_count": 100
        },
        {
          "output_type": "display_data",
          "data": {
            "image/png": "[encoded data removed]",
            "text/plain": [
              "<Figure size 432x288 with 1 Axes>"
            ]
          },
          "metadata": {
            "tags": [],
            "needs_background": "light"
          }
        }
      ]
    },
    {
      "cell_type": "code",
      "metadata": {
        "id": "9GQsh8RaYhs_",
        "colab_type": "code",
        "colab": {
          "base_uri": "https://localhost:8080/",
          "height": 654
        },
        "outputId": "f900db45-5284-4501-b68b-5e5c91446285"
      },
      "source": [
        "fig, (ax1, ax2,ax3) = plt.subplots(1,3,figsize=(15,5))\n",
        "sns.distplot(defaulters.loan_amnt,ax=ax1,color='red')\n",
        "sns.distplot(defaulters.funded_amnt,ax=ax2,color='blue')\n",
        "sns.distplot(defaulters.funded_amnt_inv,ax=ax3,color='green')"
      ],
      "execution_count": null,
      "outputs": [
        {
          "output_type": "error",
          "ename": "AttributeError",
          "evalue": "ignored",
          "traceback": [
            "\u001b[0;31m---------------------------------------------------------------------------\u001b[0m",
            "\u001b[0;31mAttributeError\u001b[0m                            Traceback (most recent call last)",
            "\u001b[0;32m<ipython-input-101-ce9f79c43d9c>\u001b[0m in \u001b[0;36m<module>\u001b[0;34m()\u001b[0m\n\u001b[1;32m      1\u001b[0m \u001b[0mfig\u001b[0m\u001b[0;34m,\u001b[0m \u001b[0;34m(\u001b[0m\u001b[0max1\u001b[0m\u001b[0;34m,\u001b[0m \u001b[0max2\u001b[0m\u001b[0;34m,\u001b[0m\u001b[0max3\u001b[0m\u001b[0;34m)\u001b[0m \u001b[0;34m=\u001b[0m \u001b[0mplt\u001b[0m\u001b[0;34m.\u001b[0m\u001b[0msubplots\u001b[0m\u001b[0;34m(\u001b[0m\u001b[0;36m1\u001b[0m\u001b[0;34m,\u001b[0m\u001b[0;36m3\u001b[0m\u001b[0;34m,\u001b[0m\u001b[0mfigsize\u001b[0m\u001b[0;34m=\u001b[0m\u001b[0;34m(\u001b[0m\u001b[0;36m15\u001b[0m\u001b[0;34m,\u001b[0m\u001b[0;36m5\u001b[0m\u001b[0;34m)\u001b[0m\u001b[0;34m)\u001b[0m\u001b[0;34m\u001b[0m\u001b[0;34m\u001b[0m\u001b[0m\n\u001b[1;32m      2\u001b[0m \u001b[0msns\u001b[0m\u001b[0;34m.\u001b[0m\u001b[0mdistplot\u001b[0m\u001b[0;34m(\u001b[0m\u001b[0mdefaulters\u001b[0m\u001b[0;34m.\u001b[0m\u001b[0mloan_amnt\u001b[0m\u001b[0;34m,\u001b[0m\u001b[0max\u001b[0m\u001b[0;34m=\u001b[0m\u001b[0max1\u001b[0m\u001b[0;34m,\u001b[0m\u001b[0mcolor\u001b[0m\u001b[0;34m=\u001b[0m\u001b[0;34m'red'\u001b[0m\u001b[0;34m)\u001b[0m\u001b[0;34m\u001b[0m\u001b[0;34m\u001b[0m\u001b[0m\n\u001b[0;32m----> 3\u001b[0;31m \u001b[0msns\u001b[0m\u001b[0;34m.\u001b[0m\u001b[0mdistplot\u001b[0m\u001b[0;34m(\u001b[0m\u001b[0mdefaulters\u001b[0m\u001b[0;34m.\u001b[0m\u001b[0mfunded_amnt\u001b[0m\u001b[0;34m,\u001b[0m\u001b[0max\u001b[0m\u001b[0;34m=\u001b[0m\u001b[0max2\u001b[0m\u001b[0;34m,\u001b[0m\u001b[0mcolor\u001b[0m\u001b[0;34m=\u001b[0m\u001b[0;34m'blue'\u001b[0m\u001b[0;34m)\u001b[0m\u001b[0;34m\u001b[0m\u001b[0;34m\u001b[0m\u001b[0m\n\u001b[0m\u001b[1;32m      4\u001b[0m \u001b[0msns\u001b[0m\u001b[0;34m.\u001b[0m\u001b[0mdistplot\u001b[0m\u001b[0;34m(\u001b[0m\u001b[0mdefaulters\u001b[0m\u001b[0;34m.\u001b[0m\u001b[0mfunded_amnt_inv\u001b[0m\u001b[0;34m,\u001b[0m\u001b[0max\u001b[0m\u001b[0;34m=\u001b[0m\u001b[0max3\u001b[0m\u001b[0;34m,\u001b[0m\u001b[0mcolor\u001b[0m\u001b[0;34m=\u001b[0m\u001b[0;34m'green'\u001b[0m\u001b[0;34m)\u001b[0m\u001b[0;34m\u001b[0m\u001b[0;34m\u001b[0m\u001b[0m\n",
            "\u001b[0;32m/usr/local/lib/python3.6/dist-packages/pandas/core/generic.py\u001b[0m in \u001b[0;36m__getattr__\u001b[0;34m(self, name)\u001b[0m\n\u001b[1;32m   5272\u001b[0m             \u001b[0;32mif\u001b[0m \u001b[0mself\u001b[0m\u001b[0;34m.\u001b[0m\u001b[0m_info_axis\u001b[0m\u001b[0;34m.\u001b[0m\u001b[0m_can_hold_identifiers_and_holds_name\u001b[0m\u001b[0;34m(\u001b[0m\u001b[0mname\u001b[0m\u001b[0;34m)\u001b[0m\u001b[0;34m:\u001b[0m\u001b[0;34m\u001b[0m\u001b[0;34m\u001b[0m\u001b[0m\n\u001b[1;32m   5273\u001b[0m                 \u001b[0;32mreturn\u001b[0m \u001b[0mself\u001b[0m\u001b[0;34m[\u001b[0m\u001b[0mname\u001b[0m\u001b[0;34m]\u001b[0m\u001b[0;34m\u001b[0m\u001b[0;34m\u001b[0m\u001b[0m\n\u001b[0;32m-> 5274\u001b[0;31m             \u001b[0;32mreturn\u001b[0m \u001b[0mobject\u001b[0m\u001b[0;34m.\u001b[0m\u001b[0m__getattribute__\u001b[0m\u001b[0;34m(\u001b[0m\u001b[0mself\u001b[0m\u001b[0;34m,\u001b[0m \u001b[0mname\u001b[0m\u001b[0;34m)\u001b[0m\u001b[0;34m\u001b[0m\u001b[0;34m\u001b[0m\u001b[0m\n\u001b[0m\u001b[1;32m   5275\u001b[0m \u001b[0;34m\u001b[0m\u001b[0m\n\u001b[1;32m   5276\u001b[0m     \u001b[0;32mdef\u001b[0m \u001b[0m__setattr__\u001b[0m\u001b[0;34m(\u001b[0m\u001b[0mself\u001b[0m\u001b[0;34m,\u001b[0m \u001b[0mname\u001b[0m\u001b[0;34m:\u001b[0m \u001b[0mstr\u001b[0m\u001b[0;34m,\u001b[0m \u001b[0mvalue\u001b[0m\u001b[0;34m)\u001b[0m \u001b[0;34m->\u001b[0m \u001b[0;32mNone\u001b[0m\u001b[0;34m:\u001b[0m\u001b[0;34m\u001b[0m\u001b[0;34m\u001b[0m\u001b[0m\n",
            "\u001b[0;31mAttributeError\u001b[0m: 'DataFrame' object has no attribute 'funded_amnt'"
          ]
        },
        {
          "output_type": "display_data",
          "data": {
            "image/png": "[encoded data removed]",
            "text/plain": [
              "<Figure size 1080x360 with 3 Axes>"
            ]
          },
          "metadata": {
            "tags": [],
            "needs_background": "light"
          }
        }
      ]
    },
    {
      "cell_type": "markdown",
      "metadata": {
        "id": "DM2rQM_rYhtF",
        "colab_type": "text"
      },
      "source": [
        "#### In the dataset we have three columns relating to the loans: loan amount, funded amount and total amount from inverstors. The loan amount and funded amount are similarly distributed, which shows that there is an adequate balance between funding and credit."
      ]
    },
    {
      "cell_type": "code",
      "metadata": {
        "id": "_reIHCcHYhtG",
        "colab_type": "code",
        "colab": {}
      },
      "source": [
        "defaulters['Year of Issue']=defaulters.issue_d.apply(lambda x:x.year)"
      ],
      "execution_count": null,
      "outputs": []
    },
    {
      "cell_type": "code",
      "metadata": {
        "id": "Otbi9auEYhtN",
        "colab_type": "code",
        "colab": {}
      },
      "source": [
        "plt.title(\"Number of Loans issued\")\n",
        "sns.countplot(x='Year of Issue',data=defaulters)"
      ],
      "execution_count": null,
      "outputs": []
    },
    {
      "cell_type": "markdown",
      "metadata": {
        "id": "XdeUdno1YhtS",
        "colab_type": "text"
      },
      "source": [
        "#### We can see the number of defaulters of  loans have increased at a steady rate from the year 2007 to the year 2011 followed by a decrease in the defaulters"
      ]
    },
    {
      "cell_type": "code",
      "metadata": {
        "id": "ZjwL58hJYhtT",
        "colab_type": "code",
        "colab": {}
      },
      "source": [
        "fig, ax = plt.subplots(figsize=(20,10))\n",
        "plt.title(\"Purpose for loan issued\")\n",
        "plt.yscale('log')\n",
        "sns.countplot(x='purpose',data=TrainData,hue='default_ind')"
      ],
      "execution_count": null,
      "outputs": []
    },
    {
      "cell_type": "markdown",
      "metadata": {
        "id": "K6XXKLcGYhtb",
        "colab_type": "text"
      },
      "source": [
        "#### From the above plot we can observe that most loans approved are for debt consolidation purpose"
      ]
    },
    {
      "cell_type": "code",
      "metadata": {
        "id": "yctA9ANGYhtf",
        "colab_type": "code",
        "colab": {}
      },
      "source": [
        "fig, ax = plt.subplots(figsize=(20,10))\n",
        "plt.title(\"Grade of  loan issued\")\n",
        "sns.countplot(x='grade',data=TrainData,hue='default_ind')"
      ],
      "execution_count": null,
      "outputs": []
    },
    {
      "cell_type": "markdown",
      "metadata": {
        "id": "8_2X9sGqYhtt",
        "colab_type": "text"
      },
      "source": [
        "#### From the above plot we can observe that grades B,C,D loans are the most defaulted loans"
      ]
    },
    {
      "cell_type": "code",
      "metadata": {
        "id": "lpWg5jrDYhtv",
        "colab_type": "code",
        "colab": {}
      },
      "source": [
        "fig, ax = plt.subplots(figsize=(20,10))\n",
        "plt.title(\"Employee length for whom loan is issued\")\n",
        "sns.countplot(x='emp_length',data=TrainData,hue='default_ind')"
      ],
      "execution_count": null,
      "outputs": []
    },
    {
      "cell_type": "markdown",
      "metadata": {
        "id": "h4iAHIVmYht4",
        "colab_type": "text"
      },
      "source": [
        "#### From the above plot we can make out that employees with 10+ years of experience are the maximum defaulters of loan"
      ]
    },
    {
      "cell_type": "code",
      "metadata": {
        "id": "p5Tf-oynYht6",
        "colab_type": "code",
        "colab": {}
      },
      "source": [
        "fig, ax = plt.subplots(figsize=(20,15))\n",
        "plt.title(\"Interest rate of defaulted loans\")\n",
        "plt.yscale('log')\n",
        "sns.countplot(x='int_range',data=TrainData,hue='default_ind')"
      ],
      "execution_count": null,
      "outputs": []
    },
    {
      "cell_type": "markdown",
      "metadata": {
        "id": "lImGXckUYhuB",
        "colab_type": "text"
      },
      "source": [
        "#### From the above plot we can make out that loans taken out at an interest of 15-20% are the maximum defaulted loans"
      ]
    },
    {
      "cell_type": "code",
      "metadata": {
        "id": "QEUhIRAjYhuC",
        "colab_type": "code",
        "colab": {}
      },
      "source": [
        "fig, ax = plt.subplots(figsize=(20,10))\n",
        "plt.title(\"dti rate of loans of deaulted\")\n",
        "plt.yscale('log')\n",
        "sns.countplot(x='dti_range',data=TrainData,hue='default_ind')"
      ],
      "execution_count": null,
      "outputs": []
    },
    {
      "cell_type": "code",
      "metadata": {
        "id": "SYcqQH3vYhuI",
        "colab_type": "code",
        "colab": {}
      },
      "source": [
        "TrainData.groupby(by=['dti_range','default_ind'])['id'].count()"
      ],
      "execution_count": null,
      "outputs": []
    },
    {
      "cell_type": "markdown",
      "metadata": {
        "id": "TapoVrHUYhuR",
        "colab_type": "text"
      },
      "source": [
        "#### We can observe that the dti rate  of 15-20% has the maximum loan amount defaulted."
      ]
    },
    {
      "cell_type": "code",
      "metadata": {
        "id": "t2_tKn3dYhuT",
        "colab_type": "code",
        "colab": {}
      },
      "source": [
        "TrainData['annual_inc'].describe()"
      ],
      "execution_count": null,
      "outputs": []
    },
    {
      "cell_type": "code",
      "metadata": {
        "id": "mIPClojPYhuZ",
        "colab_type": "code",
        "colab": {}
      },
      "source": [
        "TrainData['annual_inc_charged']=pd.cut(TrainData.annual_inc,10,labels=['0-125K','125-250K','250-375K','375-500K','500-625K','625-750K','750-875K','875-1000K','1000-1125K','1125-1250K'])"
      ],
      "execution_count": null,
      "outputs": []
    },
    {
      "cell_type": "code",
      "metadata": {
        "id": "p0g-MYbHYhuh",
        "colab_type": "code",
        "colab": {}
      },
      "source": [
        "TestData['annual_inc_charged']=pd.cut(TestData.annual_inc,10,labels=['0-125K','125-250K','250-375K','375-500K','500-625K','625-750K','750-875K','875-1000K','1000-1125K','1125-1250K'])"
      ],
      "execution_count": null,
      "outputs": []
    },
    {
      "cell_type": "code",
      "metadata": {
        "id": "m4gzP2kRYhul",
        "colab_type": "code",
        "colab": {}
      },
      "source": [
        "fig, ax = plt.subplots(figsize=(20,10))\n",
        "plt.title(\"Annual income of employees that have defaulted on loans\")\n",
        "plt.yscale('log')\n",
        "sns.countplot(x='annual_inc_charged',data=TrainData,hue='default_ind')"
      ],
      "execution_count": null,
      "outputs": []
    },
    {
      "cell_type": "markdown",
      "metadata": {
        "id": "zBK68_1VYhuq",
        "colab_type": "text"
      },
      "source": [
        "#### We can observe maximum defaulters have an annual income of 0-125K"
      ]
    },
    {
      "cell_type": "code",
      "metadata": {
        "id": "LULjGlsdYhuq",
        "colab_type": "code",
        "colab": {}
      },
      "source": [
        "# Plotting term  against loan amount \n",
        "plt.title(\"Defaulters based on term of loan\")\n",
        "sns.countplot(x='term',hue='default_ind',data=TrainData)"
      ],
      "execution_count": null,
      "outputs": []
    },
    {
      "cell_type": "markdown",
      "metadata": {
        "id": "wW0BqWrQYhuy",
        "colab_type": "text"
      },
      "source": [
        "#### We can observe maximum defaulters have length of their term as 36 months"
      ]
    },
    {
      "cell_type": "markdown",
      "metadata": {
        "id": "c2LgQukXYhuz",
        "colab_type": "text"
      },
      "source": [
        "**bold text**## The driver variables are grade,int_rate,dti,purpose,emp_length,annual_inc,loan_amnt,term"
      ]
    },
    {
      "cell_type": "markdown",
      "metadata": {
        "id": "4Xz9PlQQYhuz",
        "colab_type": "text"
      },
      "source": [
        "### Bivariate Analysis"
      ]
    },
    {
      "cell_type": "code",
      "metadata": {
        "id": "PpCC_G8dYhu2",
        "colab_type": "code",
        "colab": {}
      },
      "source": [
        "#sns.catplot(x='int_range',y='loan_amnt',data=TrainData,estimator=sum,kind='bar')"
      ],
      "execution_count": null,
      "outputs": []
    },
    {
      "cell_type": "markdown",
      "metadata": {
        "id": "r73FAmv5Yhu_",
        "colab_type": "text"
      },
      "source": [
        "#### Here we can observe that as the interest rate is between 10-15% has the maximum defaulters"
      ]
    },
    {
      "cell_type": "code",
      "metadata": {
        "id": "w4qtgONwYhvA",
        "colab_type": "code",
        "colab": {}
      },
      "source": [
        "#sns.catplot(x='grade',y='loan_amnt',data=charged_off_df,estimator=sum,kind='bar')"
      ],
      "execution_count": null,
      "outputs": []
    },
    {
      "cell_type": "markdown",
      "metadata": {
        "id": "sI3BgdqOYhvI",
        "colab_type": "text"
      },
      "source": [
        "#### Here we can observe that when the grade of loan  is  B,C,D has the maximum defaulters"
      ]
    },
    {
      "cell_type": "code",
      "metadata": {
        "id": "7pegfMLVYhvJ",
        "colab_type": "code",
        "colab": {}
      },
      "source": [
        "#charged_off_df['annual_inc_range']=pd.cut(charged_off_df.annual_inc,10,labels=['0-125K','125-250K','250-375K','375-500K','500-625K','625-750K','750-875K','875-1000K','1000-1125K','1125-1250K'])"
      ],
      "execution_count": null,
      "outputs": []
    },
    {
      "cell_type": "code",
      "metadata": {
        "id": "klFgoj3cYhvS",
        "colab_type": "code",
        "colab": {}
      },
      "source": [
        "\n",
        "#sns.catplot(x='annual_inc_range',y='loan_amnt',data=charged_off_df,estimator=sum,kind='bar',height=15)"
      ],
      "execution_count": null,
      "outputs": []
    },
    {
      "cell_type": "markdown",
      "metadata": {
        "id": "P3vvrbbGYhvc",
        "colab_type": "text"
      },
      "source": [
        "#### Annual income below 125K has the most defaulters"
      ]
    },
    {
      "cell_type": "code",
      "metadata": {
        "id": "oW4MdFNsYhvd",
        "colab_type": "code",
        "colab": {}
      },
      "source": [
        "#sns.catplot(x='emp_length',y='loan_amnt',data=charged_off_df,estimator=sum,kind='bar',height=7)"
      ],
      "execution_count": null,
      "outputs": []
    },
    {
      "cell_type": "markdown",
      "metadata": {
        "id": "PEE4ORJ2Yhvj",
        "colab_type": "text"
      },
      "source": [
        "#### Therefore when employee has more than 10+ years experience he/she defaults the most"
      ]
    },
    {
      "cell_type": "code",
      "metadata": {
        "id": "le2cBqMnYhvk",
        "colab_type": "code",
        "colab": {}
      },
      "source": [
        "#sns.catplot(x='term',y='loan_amnt',hue='loan_status',data=loan_df,height=15,estimator=sum,kind='bar')"
      ],
      "execution_count": null,
      "outputs": []
    },
    {
      "cell_type": "markdown",
      "metadata": {
        "id": "sxT2Js7HYhvp",
        "colab_type": "text"
      },
      "source": [
        "#### Therefore term where maximum defaults is 36 months "
      ]
    },
    {
      "cell_type": "markdown",
      "metadata": {
        "id": "lu7sj0QJYhvq",
        "colab_type": "text"
      },
      "source": [
        "### Missing categorical values treatment\n"
      ]
    },
    {
      "cell_type": "code",
      "metadata": {
        "id": "tp3Nns9gYhvr",
        "colab_type": "code",
        "colab": {}
      },
      "source": [
        "#fill missing categorical values with mode\n",
        "\n",
        "categ_cols = ['grade', 'home_ownership', 'verification_status']\n",
        "for col in categ_cols:\n",
        "    TrainData[col] = TrainData[col].fillna(TrainData[col].mode()[0])\n",
        "    TestData[col] = TestData[col].fillna(TestData[col].mode()[0])"
      ],
      "execution_count": null,
      "outputs": []
    },
    {
      "cell_type": "code",
      "metadata": {
        "id": "h76RUWfUYhvu",
        "colab_type": "code",
        "colab": {}
      },
      "source": [
        "#create dataframes with numerical missing values with median imputed \n",
        "TrainData = TrainData.fillna(TrainData.median())\n",
        "TestData = TestData.fillna(TestData.median())"
      ],
      "execution_count": null,
      "outputs": []
    },
    {
      "cell_type": "code",
      "metadata": {
        "id": "o0sHaOqiYhv3",
        "colab_type": "code",
        "colab": {
          "base_uri": "https://localhost:8080/",
          "height": 929
        },
        "outputId": "87f456b0-f61d-4aec-861f-d2e8a18916a2"
      },
      "source": [
        "plt.subplots(figsize=(20,20))\n",
        "sns.heatmap(TrainData.corr(),annot=True,fmt=\".2f\",cmap=\"RdBu_r\")"
      ],
      "execution_count": null,
      "outputs": [
        {
          "output_type": "execute_result",
          "data": {
            "text/plain": [
              "<matplotlib.axes._subplots.AxesSubplot at 0x7f6040b4db00>"
            ]
          },
          "metadata": {
            "tags": []
          },
          "execution_count": 208
        },
        {
          "output_type": "display_data",
          "data": {
            "image/png": "[encoded data removed]",
            "text/plain": [
              "<Figure size 1440x1440 with 2 Axes>"
            ]
          },
          "metadata": {
            "tags": [],
            "needs_background": "light"
          }
        }
      ]
    },
    {
      "cell_type": "code",
      "metadata": {
        "id": "029Jc25QYhv_",
        "colab_type": "code",
        "colab": {}
      },
      "source": [
        "#Droping the variables with Max and min Corrolation\n",
        "# del_columns = [\"installment\",\"total_pymnt_inv\",\"funded_amnt_inv\",\"funded_amnt\",\"total_pymnt\",\"open_acc\",\"total_acc\",\"member_id\"]\n",
        "# TrainData= TrainData.drop(labels = del_columns,axis = 1)\n",
        "# TestData= TestData.drop(labels = del_columns,axis = 1)"
      ],
      "execution_count": null,
      "outputs": []
    },
    {
      "cell_type": "code",
      "metadata": {
        "id": "PxixsBX2YhwE",
        "colab_type": "code",
        "colab": {}
      },
      "source": [
        "plt.subplots(figsize=(20,20))\n",
        "sns.heatmap(TrainData.corr(),annot=True,fmt=\".2f\",cmap=\"RdBu_r\")"
      ],
      "execution_count": null,
      "outputs": []
    },
    {
      "cell_type": "code",
      "metadata": {
        "id": "diBwdHOxYhwI",
        "colab_type": "code",
        "colab": {}
      },
      "source": [
        "TrainData.info()"
      ],
      "execution_count": null,
      "outputs": []
    },
    {
      "cell_type": "code",
      "metadata": {
        "id": "cnWmQG_4YhwM",
        "colab_type": "code",
        "colab": {}
      },
      "source": [
        "TrainData.describe()"
      ],
      "execution_count": null,
      "outputs": []
    },
    {
      "cell_type": "code",
      "metadata": {
        "id": "EjQuOFOgYhwQ",
        "colab_type": "code",
        "colab": {}
      },
      "source": [
        "TrainData.sample(3)"
      ],
      "execution_count": null,
      "outputs": []
    },
    {
      "cell_type": "markdown",
      "metadata": {
        "id": "V2yhj9ZlJZkC",
        "colab_type": "text"
      },
      "source": [
        "## Feature Transformation and Scaling"
      ]
    },
    {
      "cell_type": "code",
      "metadata": {
        "id": "Zav3FEWqJZKB",
        "colab_type": "code",
        "colab": {}
      },
      "source": [
        "TrainData['term_pp'] = TrainData.term.str.split(expand=True).get(0)\n",
        "TrainData['term_pp'] = TrainData['term_pp'].apply(pd.to_numeric) \n",
        "\n",
        "TrainData['emp_length_pp'] = TrainData.emp_length.str.split(expand=True).get(0).str.replace(\"[+]|[<]\", \"\")\n",
        "TrainData.dropna(axis=1, how='any')\n",
        "TrainData['emp_length_pp'] = TrainData['emp_length_pp'].apply(pd.to_numeric) \n",
        "\n",
        "TrainData.drop(['term','emp_length'],axis=1,inplace=True)"
      ],
      "execution_count": null,
      "outputs": []
    },
    {
      "cell_type": "code",
      "metadata": {
        "id": "dFewkC2lSP0j",
        "colab_type": "code",
        "colab": {}
      },
      "source": [
        "TestData['term_pp'] = TestData.term.str.split(expand=True).get(0)\n",
        "TestData['term_pp'] = TestData['term_pp'].apply(pd.to_numeric) \n",
        "\n",
        "TestData['emp_length_pp'] = TestData.emp_length.str.split(expand=True).get(0).str.replace(\"[+]|[<]\", \"\")\n",
        "TestData.dropna(axis=1, how='any')\n",
        "TestData['emp_length_pp'] = TestData['emp_length_pp'].apply(pd.to_numeric) \n",
        "\n",
        "TestData.drop(['term','emp_length'],axis=1,inplace=True)"
      ],
      "execution_count": null,
      "outputs": []
    },
    {
      "cell_type": "code",
      "metadata": {
        "id": "di8itHWrP619",
        "colab_type": "code",
        "colab": {}
      },
      "source": [
        "from sklearn.preprocessing import LabelEncoder\n",
        "\n",
        "labelencoder = LabelEncoder()\n",
        "# Assigning numerical values and storing in another column\n",
        "TrainData['grade_enc'] = labelencoder.fit_transform(TrainData['grade'])\n",
        "TrainData.drop(['grade'],axis=1,inplace=True)\n",
        "\n",
        "TestData['grade_enc'] = labelencoder.fit_transform(TestData['grade'])\n",
        "TestData.drop(['grade'],axis=1,inplace=True)"
      ],
      "execution_count": null,
      "outputs": []
    },
    {
      "cell_type": "code",
      "metadata": {
        "id": "kIRIVwdtYrgI",
        "colab_type": "code",
        "colab": {
          "base_uri": "https://localhost:8080/",
          "height": 287
        },
        "outputId": "ab790b7f-fba8-413e-c979-8fee61926eb7"
      },
      "source": [
        "filter = TrainData.purpose.value_counts()\n",
        "filter > 1000"
      ],
      "execution_count": null,
      "outputs": [
        {
          "output_type": "execute_result",
          "data": {
            "text/plain": [
              "debt_consolidation     True\n",
              "credit_card            True\n",
              "home_improvement       True\n",
              "other                  True\n",
              "major_purchase         True\n",
              "small_business         True\n",
              "car                    True\n",
              "medical                True\n",
              "moving                 True\n",
              "vacation               True\n",
              "house                  True\n",
              "wedding                True\n",
              "renewable_energy      False\n",
              "educational           False\n",
              "Name: purpose, dtype: bool"
            ]
          },
          "metadata": {
            "tags": []
          },
          "execution_count": 251
        }
      ]
    },
    {
      "cell_type": "code",
      "metadata": {
        "id": "2QTBN7dxXnJs",
        "colab_type": "code",
        "colab": {}
      },
      "source": [
        "from sklearn.preprocessing import OneHotEncoder\n",
        "\n",
        "# creating instance of one-hot-encoder\n",
        "enc = OneHotEncoder(handle_unknown='ignore')\n",
        "enc_df = pd.DataFrame(enc.fit_transform(TrainData[['home_ownership'\n",
        ",'verification_status'\n",
        ",'purpose'\n",
        ",'application_type']]).toarray())\n",
        "\n",
        "# merge with main df TrainData on key values\n",
        "TrainData = TrainData.join(enc_df)\n",
        "TrainData.sample(3)\n",
        "TrainData.drop(['home_ownership'\n",
        ",'verification_status'\n",
        ",'purpose'\n",
        ",'application_type'],axis=1,inplace=True)"
      ],
      "execution_count": null,
      "outputs": []
    },
    {
      "cell_type": "code",
      "metadata": {
        "id": "TuYNHJhAZcpB",
        "colab_type": "code",
        "colab": {}
      },
      "source": [
        "enc_df = pd.DataFrame(enc.fit_transform(TestData[['home_ownership'\n",
        ",'verification_status'\n",
        ",'purpose'\n",
        ",'application_type']]).toarray())\n",
        "\n",
        "# merge with main df TrainData on key values\n",
        "TestData = TestData.join(enc_df)\n",
        "TestData.sample(3)\n",
        "TestData.drop(['home_ownership'\n",
        ",'verification_status'\n",
        ",'purpose'\n",
        ",'application_type'],axis=1,inplace=True)"
      ],
      "execution_count": null,
      "outputs": []
    },
    {
      "cell_type": "code",
      "metadata": {
        "id": "P7PdzC79bTQ4",
        "colab_type": "code",
        "colab": {
          "base_uri": "https://localhost:8080/",
          "height": 309
        },
        "outputId": "1726df3c-4db7-4468-950c-8abf55996ea3"
      },
      "source": [
        "TrainData.drop(['pymnt_plan','initial_list_status'],axis=1,inplace=True)\n",
        "TestData.drop(['pymnt_plan','initial_list_status'],axis=1,inplace=True)\n",
        "TrainData.dropna(how='any',inplace=True)\n",
        "TestData.dropna(how='any',inplace=True)\n",
        "\n",
        "TrainData.sample(5)"
      ],
      "execution_count": null,
      "outputs": [
        {
          "output_type": "execute_result",
          "data": {
            "text/html": [
              "<div>\n",
              "<style scoped>\n",
              "    .dataframe tbody tr th:only-of-type {\n",
              "        vertical-align: middle;\n",
              "    }\n",
              "\n",
              "    .dataframe tbody tr th {\n",
              "        vertical-align: top;\n",
              "    }\n",
              "\n",
              "    .dataframe thead th {\n",
              "        text-align: right;\n",
              "    }\n",
              "</style>\n",
              "<table border=\"1\" class=\"dataframe\">\n",
              "  <thead>\n",
              "    <tr style=\"text-align: right;\">\n",
              "      <th></th>\n",
              "      <th>loan_amnt</th>\n",
              "      <th>int_rate</th>\n",
              "      <th>annual_inc</th>\n",
              "      <th>issue_d</th>\n",
              "      <th>dti</th>\n",
              "      <th>delinq_2yrs</th>\n",
              "      <th>inq_last_6mths</th>\n",
              "      <th>open_acc</th>\n",
              "      <th>pub_rec</th>\n",
              "      <th>revol_bal</th>\n",
              "      <th>revol_util</th>\n",
              "      <th>total_acc</th>\n",
              "      <th>out_prncp</th>\n",
              "      <th>total_pymnt</th>\n",
              "      <th>total_rec_int</th>\n",
              "      <th>total_rec_late_fee</th>\n",
              "      <th>recoveries</th>\n",
              "      <th>collection_recovery_fee</th>\n",
              "      <th>last_pymnt_amnt</th>\n",
              "      <th>collections_12_mths_ex_med</th>\n",
              "      <th>acc_now_delinq</th>\n",
              "      <th>tot_coll_amt</th>\n",
              "      <th>tot_cur_bal</th>\n",
              "      <th>total_rev_hi_lim</th>\n",
              "      <th>default_ind</th>\n",
              "      <th>term_pp</th>\n",
              "      <th>emp_length_pp</th>\n",
              "      <th>grade_enc</th>\n",
              "      <th>0</th>\n",
              "      <th>1</th>\n",
              "      <th>2</th>\n",
              "      <th>3</th>\n",
              "      <th>4</th>\n",
              "      <th>5</th>\n",
              "      <th>6</th>\n",
              "      <th>7</th>\n",
              "      <th>8</th>\n",
              "      <th>9</th>\n",
              "      <th>10</th>\n",
              "      <th>11</th>\n",
              "      <th>12</th>\n",
              "      <th>13</th>\n",
              "      <th>14</th>\n",
              "      <th>15</th>\n",
              "      <th>16</th>\n",
              "      <th>17</th>\n",
              "      <th>18</th>\n",
              "      <th>19</th>\n",
              "      <th>20</th>\n",
              "      <th>21</th>\n",
              "      <th>22</th>\n",
              "      <th>23</th>\n",
              "    </tr>\n",
              "  </thead>\n",
              "  <tbody>\n",
              "    <tr>\n",
              "      <th>312142</th>\n",
              "      <td>20000.0</td>\n",
              "      <td>6.03</td>\n",
              "      <td>110000.0</td>\n",
              "      <td>2014-08-01</td>\n",
              "      <td>17.62</td>\n",
              "      <td>0.0</td>\n",
              "      <td>0.0</td>\n",
              "      <td>13.0</td>\n",
              "      <td>0.0</td>\n",
              "      <td>26178.0</td>\n",
              "      <td>36.7</td>\n",
              "      <td>21.0</td>\n",
              "      <td>11554.72</td>\n",
              "      <td>9739.52</td>\n",
              "      <td>1294.24</td>\n",
              "      <td>0.0</td>\n",
              "      <td>0.00</td>\n",
              "      <td>0.0000</td>\n",
              "      <td>608.72</td>\n",
              "      <td>0.0</td>\n",
              "      <td>0.0</td>\n",
              "      <td>0.0</td>\n",
              "      <td>256189.0</td>\n",
              "      <td>71300.0</td>\n",
              "      <td>0</td>\n",
              "      <td>36</td>\n",
              "      <td>7.0</td>\n",
              "      <td>0</td>\n",
              "      <td>0.0</td>\n",
              "      <td>1.0</td>\n",
              "      <td>0.0</td>\n",
              "      <td>0.0</td>\n",
              "      <td>0.0</td>\n",
              "      <td>0.0</td>\n",
              "      <td>1.0</td>\n",
              "      <td>0.0</td>\n",
              "      <td>0.0</td>\n",
              "      <td>0.0</td>\n",
              "      <td>0.0</td>\n",
              "      <td>0.0</td>\n",
              "      <td>0.0</td>\n",
              "      <td>0.0</td>\n",
              "      <td>0.0</td>\n",
              "      <td>1.0</td>\n",
              "      <td>0.0</td>\n",
              "      <td>0.0</td>\n",
              "      <td>0.0</td>\n",
              "      <td>0.0</td>\n",
              "      <td>0.0</td>\n",
              "      <td>0.0</td>\n",
              "      <td>0.0</td>\n",
              "      <td>1.0</td>\n",
              "    </tr>\n",
              "    <tr>\n",
              "      <th>68978</th>\n",
              "      <td>23000.0</td>\n",
              "      <td>11.99</td>\n",
              "      <td>220000.0</td>\n",
              "      <td>2013-10-01</td>\n",
              "      <td>8.31</td>\n",
              "      <td>0.0</td>\n",
              "      <td>0.0</td>\n",
              "      <td>12.0</td>\n",
              "      <td>0.0</td>\n",
              "      <td>26451.0</td>\n",
              "      <td>57.8</td>\n",
              "      <td>18.0</td>\n",
              "      <td>7234.67</td>\n",
              "      <td>19859.32</td>\n",
              "      <td>4093.99</td>\n",
              "      <td>0.0</td>\n",
              "      <td>0.00</td>\n",
              "      <td>0.0000</td>\n",
              "      <td>763.82</td>\n",
              "      <td>0.0</td>\n",
              "      <td>0.0</td>\n",
              "      <td>0.0</td>\n",
              "      <td>631763.0</td>\n",
              "      <td>45800.0</td>\n",
              "      <td>0</td>\n",
              "      <td>36</td>\n",
              "      <td>10.0</td>\n",
              "      <td>1</td>\n",
              "      <td>0.0</td>\n",
              "      <td>0.0</td>\n",
              "      <td>0.0</td>\n",
              "      <td>0.0</td>\n",
              "      <td>1.0</td>\n",
              "      <td>0.0</td>\n",
              "      <td>0.0</td>\n",
              "      <td>1.0</td>\n",
              "      <td>0.0</td>\n",
              "      <td>0.0</td>\n",
              "      <td>0.0</td>\n",
              "      <td>0.0</td>\n",
              "      <td>0.0</td>\n",
              "      <td>0.0</td>\n",
              "      <td>0.0</td>\n",
              "      <td>1.0</td>\n",
              "      <td>0.0</td>\n",
              "      <td>0.0</td>\n",
              "      <td>0.0</td>\n",
              "      <td>0.0</td>\n",
              "      <td>0.0</td>\n",
              "      <td>0.0</td>\n",
              "      <td>0.0</td>\n",
              "      <td>1.0</td>\n",
              "    </tr>\n",
              "    <tr>\n",
              "      <th>350284</th>\n",
              "      <td>33000.0</td>\n",
              "      <td>14.99</td>\n",
              "      <td>325000.0</td>\n",
              "      <td>2014-07-01</td>\n",
              "      <td>6.99</td>\n",
              "      <td>1.0</td>\n",
              "      <td>0.0</td>\n",
              "      <td>8.0</td>\n",
              "      <td>0.0</td>\n",
              "      <td>40824.0</td>\n",
              "      <td>76.9</td>\n",
              "      <td>25.0</td>\n",
              "      <td>25529.83</td>\n",
              "      <td>14128.20</td>\n",
              "      <td>6658.03</td>\n",
              "      <td>0.0</td>\n",
              "      <td>0.00</td>\n",
              "      <td>0.0000</td>\n",
              "      <td>784.90</td>\n",
              "      <td>0.0</td>\n",
              "      <td>0.0</td>\n",
              "      <td>0.0</td>\n",
              "      <td>649998.0</td>\n",
              "      <td>53100.0</td>\n",
              "      <td>0</td>\n",
              "      <td>60</td>\n",
              "      <td>9.0</td>\n",
              "      <td>2</td>\n",
              "      <td>0.0</td>\n",
              "      <td>0.0</td>\n",
              "      <td>0.0</td>\n",
              "      <td>0.0</td>\n",
              "      <td>1.0</td>\n",
              "      <td>0.0</td>\n",
              "      <td>0.0</td>\n",
              "      <td>1.0</td>\n",
              "      <td>0.0</td>\n",
              "      <td>0.0</td>\n",
              "      <td>0.0</td>\n",
              "      <td>1.0</td>\n",
              "      <td>0.0</td>\n",
              "      <td>0.0</td>\n",
              "      <td>0.0</td>\n",
              "      <td>0.0</td>\n",
              "      <td>0.0</td>\n",
              "      <td>0.0</td>\n",
              "      <td>0.0</td>\n",
              "      <td>0.0</td>\n",
              "      <td>0.0</td>\n",
              "      <td>0.0</td>\n",
              "      <td>0.0</td>\n",
              "      <td>1.0</td>\n",
              "    </tr>\n",
              "    <tr>\n",
              "      <th>370337</th>\n",
              "      <td>20000.0</td>\n",
              "      <td>20.20</td>\n",
              "      <td>65000.0</td>\n",
              "      <td>2014-05-01</td>\n",
              "      <td>26.86</td>\n",
              "      <td>0.0</td>\n",
              "      <td>1.0</td>\n",
              "      <td>12.0</td>\n",
              "      <td>0.0</td>\n",
              "      <td>18851.0</td>\n",
              "      <td>60.2</td>\n",
              "      <td>29.0</td>\n",
              "      <td>0.00</td>\n",
              "      <td>6421.90</td>\n",
              "      <td>2285.61</td>\n",
              "      <td>0.0</td>\n",
              "      <td>2697.13</td>\n",
              "      <td>485.4834</td>\n",
              "      <td>532.11</td>\n",
              "      <td>0.0</td>\n",
              "      <td>0.0</td>\n",
              "      <td>0.0</td>\n",
              "      <td>37509.0</td>\n",
              "      <td>31300.0</td>\n",
              "      <td>1</td>\n",
              "      <td>60</td>\n",
              "      <td>10.0</td>\n",
              "      <td>4</td>\n",
              "      <td>0.0</td>\n",
              "      <td>0.0</td>\n",
              "      <td>0.0</td>\n",
              "      <td>0.0</td>\n",
              "      <td>0.0</td>\n",
              "      <td>1.0</td>\n",
              "      <td>0.0</td>\n",
              "      <td>1.0</td>\n",
              "      <td>0.0</td>\n",
              "      <td>0.0</td>\n",
              "      <td>0.0</td>\n",
              "      <td>1.0</td>\n",
              "      <td>0.0</td>\n",
              "      <td>0.0</td>\n",
              "      <td>0.0</td>\n",
              "      <td>0.0</td>\n",
              "      <td>0.0</td>\n",
              "      <td>0.0</td>\n",
              "      <td>0.0</td>\n",
              "      <td>0.0</td>\n",
              "      <td>0.0</td>\n",
              "      <td>0.0</td>\n",
              "      <td>0.0</td>\n",
              "      <td>1.0</td>\n",
              "    </tr>\n",
              "    <tr>\n",
              "      <th>99696</th>\n",
              "      <td>11000.0</td>\n",
              "      <td>21.60</td>\n",
              "      <td>43000.0</td>\n",
              "      <td>2013-08-01</td>\n",
              "      <td>28.27</td>\n",
              "      <td>1.0</td>\n",
              "      <td>0.0</td>\n",
              "      <td>7.0</td>\n",
              "      <td>0.0</td>\n",
              "      <td>3972.0</td>\n",
              "      <td>77.9</td>\n",
              "      <td>18.0</td>\n",
              "      <td>7282.16</td>\n",
              "      <td>8496.04</td>\n",
              "      <td>4778.20</td>\n",
              "      <td>0.0</td>\n",
              "      <td>0.00</td>\n",
              "      <td>0.0000</td>\n",
              "      <td>363.88</td>\n",
              "      <td>0.0</td>\n",
              "      <td>0.0</td>\n",
              "      <td>0.0</td>\n",
              "      <td>45678.0</td>\n",
              "      <td>5100.0</td>\n",
              "      <td>0</td>\n",
              "      <td>60</td>\n",
              "      <td>2.0</td>\n",
              "      <td>4</td>\n",
              "      <td>0.0</td>\n",
              "      <td>0.0</td>\n",
              "      <td>0.0</td>\n",
              "      <td>0.0</td>\n",
              "      <td>0.0</td>\n",
              "      <td>1.0</td>\n",
              "      <td>0.0</td>\n",
              "      <td>1.0</td>\n",
              "      <td>0.0</td>\n",
              "      <td>0.0</td>\n",
              "      <td>0.0</td>\n",
              "      <td>0.0</td>\n",
              "      <td>0.0</td>\n",
              "      <td>0.0</td>\n",
              "      <td>0.0</td>\n",
              "      <td>0.0</td>\n",
              "      <td>0.0</td>\n",
              "      <td>1.0</td>\n",
              "      <td>0.0</td>\n",
              "      <td>0.0</td>\n",
              "      <td>0.0</td>\n",
              "      <td>0.0</td>\n",
              "      <td>0.0</td>\n",
              "      <td>1.0</td>\n",
              "    </tr>\n",
              "  </tbody>\n",
              "</table>\n",
              "</div>"
            ],
            "text/plain": [
              "        loan_amnt  int_rate  annual_inc    issue_d  ...   20   21   22   23\n",
              "312142    20000.0      6.03    110000.0 2014-08-01  ...  0.0  0.0  0.0  1.0\n",
              "68978     23000.0     11.99    220000.0 2013-10-01  ...  0.0  0.0  0.0  1.0\n",
              "350284    33000.0     14.99    325000.0 2014-07-01  ...  0.0  0.0  0.0  1.0\n",
              "370337    20000.0     20.20     65000.0 2014-05-01  ...  0.0  0.0  0.0  1.0\n",
              "99696     11000.0     21.60     43000.0 2013-08-01  ...  0.0  0.0  0.0  1.0\n",
              "\n",
              "[5 rows x 52 columns]"
            ]
          },
          "metadata": {
            "tags": []
          },
          "execution_count": 254
        }
      ]
    },
    {
      "cell_type": "code",
      "metadata": {
        "id": "VbWev3_OU9BJ",
        "colab_type": "code",
        "colab": {}
      },
      "source": [
        "from sklearn import preprocessing\n",
        "\n",
        "scaler = preprocessing.StandardScaler()\n",
        "TrainData1 = scaler.fit_transform(TrainData)\n",
        "TrainData1.sample(5)\n",
        "# TrainData.info()"
      ],
      "execution_count": null,
      "outputs": []
    },
    {
      "cell_type": "markdown",
      "metadata": {
        "id": "bWCeIF9d679V",
        "colab_type": "text"
      },
      "source": [
        "## Modelling"
      ]
    },
    {
      "cell_type": "markdown",
      "metadata": {
        "id": "JVQCdg7dYhwU",
        "colab_type": "text"
      },
      "source": [
        "### Dummyfication"
      ]
    },
    {
      "cell_type": "code",
      "metadata": {
        "id": "lwx_HjLvYhwV",
        "colab_type": "code",
        "colab": {}
      },
      "source": [
        "catcols=TrainData.select_dtypes(exclude=['int64', 'float64','datetime64[ns]']).columns"
      ],
      "execution_count": null,
      "outputs": []
    },
    {
      "cell_type": "code",
      "metadata": {
        "id": "ZaUlDb_jYhwY",
        "colab_type": "code",
        "colab": {
          "base_uri": "https://localhost:8080/",
          "height": 213
        },
        "outputId": "eff46f72-4ffb-4ede-e1b3-6b29a124d156"
      },
      "source": [
        "Train_data = pd.get_dummies(TrainData, columns= catcols)\n",
        "Train_data.sample(3)"
      ],
      "execution_count": null,
      "outputs": [
        {
          "output_type": "execute_result",
          "data": {
            "text/html": [
              "<div>\n",
              "<style scoped>\n",
              "    .dataframe tbody tr th:only-of-type {\n",
              "        vertical-align: middle;\n",
              "    }\n",
              "\n",
              "    .dataframe tbody tr th {\n",
              "        vertical-align: top;\n",
              "    }\n",
              "\n",
              "    .dataframe thead th {\n",
              "        text-align: right;\n",
              "    }\n",
              "</style>\n",
              "<table border=\"1\" class=\"dataframe\">\n",
              "  <thead>\n",
              "    <tr style=\"text-align: right;\">\n",
              "      <th></th>\n",
              "      <th>loan_amnt</th>\n",
              "      <th>int_rate</th>\n",
              "      <th>annual_inc</th>\n",
              "      <th>issue_d</th>\n",
              "      <th>dti</th>\n",
              "      <th>delinq_2yrs</th>\n",
              "      <th>inq_last_6mths</th>\n",
              "      <th>open_acc</th>\n",
              "      <th>pub_rec</th>\n",
              "      <th>revol_bal</th>\n",
              "      <th>revol_util</th>\n",
              "      <th>total_acc</th>\n",
              "      <th>out_prncp</th>\n",
              "      <th>total_pymnt</th>\n",
              "      <th>total_rec_int</th>\n",
              "      <th>total_rec_late_fee</th>\n",
              "      <th>recoveries</th>\n",
              "      <th>collection_recovery_fee</th>\n",
              "      <th>last_pymnt_amnt</th>\n",
              "      <th>collections_12_mths_ex_med</th>\n",
              "      <th>acc_now_delinq</th>\n",
              "      <th>tot_coll_amt</th>\n",
              "      <th>tot_cur_bal</th>\n",
              "      <th>total_rev_hi_lim</th>\n",
              "      <th>default_ind</th>\n",
              "      <th>term_pp</th>\n",
              "      <th>emp_length_pp</th>\n",
              "      <th>grade_enc</th>\n",
              "      <th>0</th>\n",
              "      <th>1</th>\n",
              "      <th>2</th>\n",
              "      <th>3</th>\n",
              "      <th>4</th>\n",
              "      <th>5</th>\n",
              "      <th>6</th>\n",
              "      <th>7</th>\n",
              "      <th>8</th>\n",
              "      <th>9</th>\n",
              "      <th>10</th>\n",
              "      <th>11</th>\n",
              "      <th>12</th>\n",
              "      <th>13</th>\n",
              "      <th>14</th>\n",
              "      <th>15</th>\n",
              "      <th>16</th>\n",
              "      <th>17</th>\n",
              "      <th>18</th>\n",
              "      <th>19</th>\n",
              "      <th>20</th>\n",
              "      <th>21</th>\n",
              "      <th>22</th>\n",
              "      <th>23</th>\n",
              "    </tr>\n",
              "  </thead>\n",
              "  <tbody>\n",
              "    <tr>\n",
              "      <th>86521</th>\n",
              "      <td>4650.0</td>\n",
              "      <td>14.30</td>\n",
              "      <td>112800.0</td>\n",
              "      <td>2013-09-01</td>\n",
              "      <td>13.73</td>\n",
              "      <td>0.0</td>\n",
              "      <td>4.0</td>\n",
              "      <td>7.0</td>\n",
              "      <td>0.0</td>\n",
              "      <td>154216.0</td>\n",
              "      <td>85.4</td>\n",
              "      <td>25.0</td>\n",
              "      <td>1210.81</td>\n",
              "      <td>4469.08</td>\n",
              "      <td>1029.89</td>\n",
              "      <td>0.0</td>\n",
              "      <td>0.0</td>\n",
              "      <td>0.0</td>\n",
              "      <td>159.61</td>\n",
              "      <td>0.0</td>\n",
              "      <td>0.0</td>\n",
              "      <td>0.0</td>\n",
              "      <td>272513.0</td>\n",
              "      <td>174900.0</td>\n",
              "      <td>0</td>\n",
              "      <td>36</td>\n",
              "      <td>1.0</td>\n",
              "      <td>2</td>\n",
              "      <td>0.0</td>\n",
              "      <td>0.0</td>\n",
              "      <td>0.0</td>\n",
              "      <td>0.0</td>\n",
              "      <td>1.0</td>\n",
              "      <td>0.0</td>\n",
              "      <td>0.0</td>\n",
              "      <td>1.0</td>\n",
              "      <td>0.0</td>\n",
              "      <td>0.0</td>\n",
              "      <td>0.0</td>\n",
              "      <td>0.0</td>\n",
              "      <td>0.0</td>\n",
              "      <td>1.0</td>\n",
              "      <td>0.0</td>\n",
              "      <td>0.0</td>\n",
              "      <td>0.0</td>\n",
              "      <td>0.0</td>\n",
              "      <td>0.0</td>\n",
              "      <td>0.0</td>\n",
              "      <td>0.0</td>\n",
              "      <td>0.0</td>\n",
              "      <td>0.0</td>\n",
              "      <td>1.0</td>\n",
              "    </tr>\n",
              "    <tr>\n",
              "      <th>228059</th>\n",
              "      <td>24000.0</td>\n",
              "      <td>11.44</td>\n",
              "      <td>67000.0</td>\n",
              "      <td>2014-12-01</td>\n",
              "      <td>15.68</td>\n",
              "      <td>1.0</td>\n",
              "      <td>0.0</td>\n",
              "      <td>7.0</td>\n",
              "      <td>0.0</td>\n",
              "      <td>22958.0</td>\n",
              "      <td>57.7</td>\n",
              "      <td>29.0</td>\n",
              "      <td>19892.34</td>\n",
              "      <td>6821.79</td>\n",
              "      <td>2714.13</td>\n",
              "      <td>0.0</td>\n",
              "      <td>0.0</td>\n",
              "      <td>0.0</td>\n",
              "      <td>527.10</td>\n",
              "      <td>0.0</td>\n",
              "      <td>0.0</td>\n",
              "      <td>0.0</td>\n",
              "      <td>42377.0</td>\n",
              "      <td>39800.0</td>\n",
              "      <td>0</td>\n",
              "      <td>60</td>\n",
              "      <td>10.0</td>\n",
              "      <td>1</td>\n",
              "      <td>0.0</td>\n",
              "      <td>1.0</td>\n",
              "      <td>0.0</td>\n",
              "      <td>0.0</td>\n",
              "      <td>0.0</td>\n",
              "      <td>0.0</td>\n",
              "      <td>0.0</td>\n",
              "      <td>0.0</td>\n",
              "      <td>1.0</td>\n",
              "      <td>0.0</td>\n",
              "      <td>0.0</td>\n",
              "      <td>1.0</td>\n",
              "      <td>0.0</td>\n",
              "      <td>0.0</td>\n",
              "      <td>0.0</td>\n",
              "      <td>0.0</td>\n",
              "      <td>0.0</td>\n",
              "      <td>0.0</td>\n",
              "      <td>0.0</td>\n",
              "      <td>0.0</td>\n",
              "      <td>0.0</td>\n",
              "      <td>0.0</td>\n",
              "      <td>0.0</td>\n",
              "      <td>1.0</td>\n",
              "    </tr>\n",
              "    <tr>\n",
              "      <th>426730</th>\n",
              "      <td>9600.0</td>\n",
              "      <td>11.99</td>\n",
              "      <td>131000.0</td>\n",
              "      <td>2014-02-01</td>\n",
              "      <td>14.52</td>\n",
              "      <td>1.0</td>\n",
              "      <td>2.0</td>\n",
              "      <td>17.0</td>\n",
              "      <td>1.0</td>\n",
              "      <td>6218.0</td>\n",
              "      <td>31.6</td>\n",
              "      <td>32.0</td>\n",
              "      <td>4145.77</td>\n",
              "      <td>7014.04</td>\n",
              "      <td>1559.81</td>\n",
              "      <td>0.0</td>\n",
              "      <td>0.0</td>\n",
              "      <td>0.0</td>\n",
              "      <td>318.82</td>\n",
              "      <td>0.0</td>\n",
              "      <td>0.0</td>\n",
              "      <td>0.0</td>\n",
              "      <td>58918.0</td>\n",
              "      <td>19700.0</td>\n",
              "      <td>0</td>\n",
              "      <td>36</td>\n",
              "      <td>10.0</td>\n",
              "      <td>1</td>\n",
              "      <td>0.0</td>\n",
              "      <td>0.0</td>\n",
              "      <td>0.0</td>\n",
              "      <td>0.0</td>\n",
              "      <td>0.0</td>\n",
              "      <td>1.0</td>\n",
              "      <td>0.0</td>\n",
              "      <td>1.0</td>\n",
              "      <td>0.0</td>\n",
              "      <td>1.0</td>\n",
              "      <td>0.0</td>\n",
              "      <td>0.0</td>\n",
              "      <td>0.0</td>\n",
              "      <td>0.0</td>\n",
              "      <td>0.0</td>\n",
              "      <td>0.0</td>\n",
              "      <td>0.0</td>\n",
              "      <td>0.0</td>\n",
              "      <td>0.0</td>\n",
              "      <td>0.0</td>\n",
              "      <td>0.0</td>\n",
              "      <td>0.0</td>\n",
              "      <td>0.0</td>\n",
              "      <td>1.0</td>\n",
              "    </tr>\n",
              "  </tbody>\n",
              "</table>\n",
              "</div>"
            ],
            "text/plain": [
              "        loan_amnt  int_rate  annual_inc    issue_d  ...   20   21   22   23\n",
              "86521      4650.0     14.30    112800.0 2013-09-01  ...  0.0  0.0  0.0  1.0\n",
              "228059    24000.0     11.44     67000.0 2014-12-01  ...  0.0  0.0  0.0  1.0\n",
              "426730     9600.0     11.99    131000.0 2014-02-01  ...  0.0  0.0  0.0  1.0\n",
              "\n",
              "[3 rows x 52 columns]"
            ]
          },
          "metadata": {
            "tags": []
          },
          "execution_count": 257
        }
      ]
    },
    {
      "cell_type": "code",
      "metadata": {
        "id": "85HcieS6Yhwc",
        "colab_type": "code",
        "colab": {}
      },
      "source": [
        "Test_data = pd.get_dummies(TestData, columns= catcols)"
      ],
      "execution_count": null,
      "outputs": []
    },
    {
      "cell_type": "markdown",
      "metadata": {
        "id": "sPPhJK1qYhwf",
        "colab_type": "text"
      },
      "source": [
        "### Model training"
      ]
    },
    {
      "cell_type": "code",
      "metadata": {
        "id": "aLAMQBVwYhwf",
        "colab_type": "code",
        "colab": {}
      },
      "source": [
        "del_columns = [\"default_ind\"]\n",
        "Test_data = Test_data.drop(labels = del_columns,axis = 1)"
      ],
      "execution_count": null,
      "outputs": []
    },
    {
      "cell_type": "code",
      "metadata": {
        "id": "Mh5pkkfiYhwn",
        "colab_type": "code",
        "colab": {}
      },
      "source": [
        "from sklearn.model_selection import train_test_split\n",
        "columns = Train_data.drop('default_ind',axis =1).columns\n",
        "X_train, X_test, y_train, y_test = train_test_split(Train_data[columns], Train_data.default_ind, test_size = .2)"
      ],
      "execution_count": null,
      "outputs": []
    },
    {
      "cell_type": "code",
      "metadata": {
        "id": "2SBK2h2OYhwq",
        "colab_type": "code",
        "colab": {}
      },
      "source": [
        "from sklearn.linear_model import LogisticRegression\n",
        "from sklearn.tree import DecisionTreeClassifier\n",
        "from sklearn.ensemble import RandomForestClassifier"
      ],
      "execution_count": null,
      "outputs": []
    },
    {
      "cell_type": "code",
      "metadata": {
        "id": "lrlbyrKFYhwv",
        "colab_type": "code",
        "colab": {}
      },
      "source": [
        "models=[]\n",
        "models.append((\"logreg\",LogisticRegression(solver='saga')))\n",
        "models.append((\"tree\",DecisionTreeClassifier()))\n",
        "models.append((\"forest\",RandomForestClassifier(n_estimators=20)))"
      ],
      "execution_count": null,
      "outputs": []
    },
    {
      "cell_type": "code",
      "metadata": {
        "id": "aNupqYCOYhw0",
        "colab_type": "code",
        "colab": {}
      },
      "source": [
        "seed=7\n",
        "scoring='accuracy'"
      ],
      "execution_count": null,
      "outputs": []
    },
    {
      "cell_type": "code",
      "metadata": {
        "id": "Q_r-_7teYhw4",
        "colab_type": "code",
        "colab": {}
      },
      "source": [
        "from sklearn.model_selection import KFold \n",
        "from sklearn.model_selection import cross_val_score\n",
        "result=[]\n",
        "names=[]"
      ],
      "execution_count": null,
      "outputs": []
    },
    {
      "cell_type": "code",
      "metadata": {
        "id": "6hWMWZJ2YhxA",
        "colab_type": "code",
        "colab": {}
      },
      "source": [
        "X_train = X_train.drop('issue_d',axis=1)\n",
        "X_test = X_test.drop('issue_d',axis=1)"
      ],
      "execution_count": null,
      "outputs": []
    },
    {
      "cell_type": "code",
      "metadata": {
        "id": "XtsnzdljYhxE",
        "colab_type": "code",
        "colab": {
          "base_uri": "https://localhost:8080/",
          "height": 71
        },
        "outputId": "4077191e-60b5-4afc-c4a5-240a511a2a30"
      },
      "source": [
        "for name,model in models:\n",
        "    kfold=KFold(n_splits=5,random_state=seed)\n",
        "    cv_result=cross_val_score(model,X_train,y_train,cv=kfold,scoring=scoring)\n",
        "    result.append(cv_result)\n",
        "    names.append(name)\n",
        "    print(\"%s %f %f\" % (name,cv_result.mean(),cv_result.std()))"
      ],
      "execution_count": null,
      "outputs": [
        {
          "output_type": "stream",
          "text": [
            "logreg 0.914923 0.001479\n",
            "tree 0.994227 0.000402\n",
            "forest 0.993684 0.000648\n"
          ],
          "name": "stdout"
        }
      ]
    },
    {
      "cell_type": "code",
      "metadata": {
        "id": "Jtz5LcH4YhxH",
        "colab_type": "code",
        "colab": {
          "base_uri": "https://localhost:8080/",
          "height": 233
        },
        "outputId": "c6db975f-89a2-4c9e-8c4e-815a930e357b"
      },
      "source": [
        "from sklearn.metrics import accuracy_score\n",
        "from sklearn.metrics import confusion_matrix\n",
        "from sklearn.metrics import classification_report\n",
        "final_model=LogisticRegression(solver='saga')\n",
        "final_model.fit(X_train,y_train)\n",
        "pred=final_model.predict(X_test)\n",
        "print(accuracy_score(y_test,pred))\n",
        "print(confusion_matrix(y_test,pred))\n",
        "print(classification_report(y_test,pred))"
      ],
      "execution_count": null,
      "outputs": [
        {
          "output_type": "stream",
          "text": [
            "0.9190414986186825\n",
            "[[62080     1]\n",
            " [ 5479   129]]\n",
            "              precision    recall  f1-score   support\n",
            "\n",
            "           0       0.92      1.00      0.96     62081\n",
            "           1       0.99      0.02      0.04      5608\n",
            "\n",
            "    accuracy                           0.92     67689\n",
            "   macro avg       0.96      0.51      0.50     67689\n",
            "weighted avg       0.92      0.92      0.88     67689\n",
            "\n"
          ],
          "name": "stdout"
        }
      ]
    },
    {
      "cell_type": "code",
      "metadata": {
        "id": "F4Sv3pqRYhxL",
        "colab_type": "code",
        "colab": {
          "base_uri": "https://localhost:8080/",
          "height": 107
        },
        "outputId": "4d3e981f-8bc6-4b1a-c35e-e02b1b9f4d3b"
      },
      "source": [
        "# train a logistic regression model on the training set\n",
        "from sklearn.linear_model import LogisticRegression\n",
        "\n",
        "# instantiate model\n",
        "logreg = LogisticRegression(solver=\"saga\",max_iter=1000)\n",
        "\n",
        "# fit model\n",
        "logreg.fit(X_train, y_train)"
      ],
      "execution_count": null,
      "outputs": [
        {
          "output_type": "execute_result",
          "data": {
            "text/plain": [
              "LogisticRegression(C=1.0, class_weight=None, dual=False, fit_intercept=True,\n",
              "                   intercept_scaling=1, l1_ratio=None, max_iter=1000,\n",
              "                   multi_class='auto', n_jobs=None, penalty='l2',\n",
              "                   random_state=None, solver='saga', tol=0.0001, verbose=0,\n",
              "                   warm_start=False)"
            ]
          },
          "metadata": {
            "tags": []
          },
          "execution_count": 268
        }
      ]
    },
    {
      "cell_type": "code",
      "metadata": {
        "id": "ruhQdhieYhxP",
        "colab_type": "code",
        "colab": {}
      },
      "source": [
        "# make class predictions for the testing set\n",
        "y_pred_class = logreg.predict(X_test)"
      ],
      "execution_count": null,
      "outputs": []
    },
    {
      "cell_type": "code",
      "metadata": {
        "id": "X6eA84NlYhxT",
        "colab_type": "code",
        "colab": {
          "base_uri": "https://localhost:8080/",
          "height": 35
        },
        "outputId": "9f85793c-c31d-46fa-be0b-f3c7f4e037b6"
      },
      "source": [
        "y_pred_class"
      ],
      "execution_count": null,
      "outputs": [
        {
          "output_type": "execute_result",
          "data": {
            "text/plain": [
              "array([0, 0, 0, ..., 0, 0, 0])"
            ]
          },
          "metadata": {
            "tags": []
          },
          "execution_count": 270
        }
      ]
    },
    {
      "cell_type": "code",
      "metadata": {
        "id": "X1AqDrljYhxZ",
        "colab_type": "code",
        "colab": {
          "base_uri": "https://localhost:8080/",
          "height": 35
        },
        "outputId": "e9b7a05d-975e-406d-ac18-19f6197788a7"
      },
      "source": [
        "#Score?\n",
        "logreg.score(X_test,y_test)"
      ],
      "execution_count": null,
      "outputs": [
        {
          "output_type": "execute_result",
          "data": {
            "text/plain": [
              "0.9804251798667435"
            ]
          },
          "metadata": {
            "tags": []
          },
          "execution_count": 271
        }
      ]
    },
    {
      "cell_type": "code",
      "metadata": {
        "id": "r6hEdblhYhxo",
        "colab_type": "code",
        "colab": {
          "base_uri": "https://localhost:8080/",
          "height": 53
        },
        "outputId": "0beac9cd-67e6-41d5-8034-e1816e556699"
      },
      "source": [
        "# CONFUSION MATRIX\n",
        "# IMPORTANT: first argument is true values, second argument is predicted values\n",
        "# this produces a 2x2 numpy array (matrix)\n",
        "from sklearn import metrics\n",
        "\n",
        "print(metrics.confusion_matrix(y_test, y_pred_class))"
      ],
      "execution_count": null,
      "outputs": [
        {
          "output_type": "stream",
          "text": [
            "[[62080     1]\n",
            " [ 1324  4284]]\n"
          ],
          "name": "stdout"
        }
      ]
    },
    {
      "cell_type": "code",
      "metadata": {
        "id": "hvHRVB9yYhx2",
        "colab_type": "code",
        "colab": {
          "base_uri": "https://localhost:8080/",
          "height": 197
        },
        "outputId": "0fd2e539-04fc-4c02-b0a2-117c03510c4b"
      },
      "source": [
        "# print the first 10 predicted probabilities of class membership\n",
        "logreg.predict_proba(X_test)[0:10]"
      ],
      "execution_count": null,
      "outputs": [
        {
          "output_type": "execute_result",
          "data": {
            "text/plain": [
              "array([[8.71283271e-01, 1.28716729e-01],\n",
              "       [9.48164821e-01, 5.18351787e-02],\n",
              "       [9.60035615e-01, 3.99643851e-02],\n",
              "       [9.98549819e-01, 1.45018139e-03],\n",
              "       [9.98130521e-01, 1.86947914e-03],\n",
              "       [9.99475803e-01, 5.24197455e-04],\n",
              "       [9.99783945e-01, 2.16054891e-04],\n",
              "       [9.44383958e-01, 5.56160425e-02],\n",
              "       [8.73379890e-01, 1.26620110e-01],\n",
              "       [9.97648776e-01, 2.35122364e-03]])"
            ]
          },
          "metadata": {
            "tags": []
          },
          "execution_count": 273
        }
      ]
    },
    {
      "cell_type": "code",
      "metadata": {
        "id": "NCiIyu7KYhx5",
        "colab_type": "code",
        "colab": {
          "base_uri": "https://localhost:8080/",
          "height": 35
        },
        "outputId": "cd51f746-0b0d-4302-dc5d-a50f5add6158"
      },
      "source": [
        "logreg.classes_"
      ],
      "execution_count": null,
      "outputs": [
        {
          "output_type": "execute_result",
          "data": {
            "text/plain": [
              "array([0, 1])"
            ]
          },
          "metadata": {
            "tags": []
          },
          "execution_count": 274
        }
      ]
    },
    {
      "cell_type": "code",
      "metadata": {
        "id": "hDoQmCgLYhx-",
        "colab_type": "code",
        "colab": {}
      },
      "source": [
        "# store the predicted probabilities for class 1\n",
        "y_pred_prob = logreg.predict_proba(X_test)[:, 1]"
      ],
      "execution_count": null,
      "outputs": []
    },
    {
      "cell_type": "code",
      "metadata": {
        "id": "M4H8Dn7YYhyB",
        "colab_type": "code",
        "colab": {}
      },
      "source": [
        "# predict defaulters if the predicted probability is greater than 0.3\n",
        "from sklearn.preprocessing import binarize\n",
        "# it will return 1 for all values above 0.3 and 0 otherwise\n",
        "# results are 2D so we slice out the first column\n",
        "y_pred_class_new = binarize(np.atleast_2d(y_pred_prob), 0.3)[0]\n"
      ],
      "execution_count": null,
      "outputs": []
    },
    {
      "cell_type": "code",
      "metadata": {
        "id": "UQPTCYI2YhyE",
        "colab_type": "code",
        "colab": {
          "base_uri": "https://localhost:8080/",
          "height": 35
        },
        "outputId": "3d6c7e4d-616c-4f16-f616-d6d938e55281"
      },
      "source": [
        "logreg.predict(X_test)[0:10]"
      ],
      "execution_count": null,
      "outputs": [
        {
          "output_type": "execute_result",
          "data": {
            "text/plain": [
              "array([0, 0, 0, 0, 0, 0, 0, 0, 0, 0])"
            ]
          },
          "metadata": {
            "tags": []
          },
          "execution_count": 277
        }
      ]
    },
    {
      "cell_type": "code",
      "metadata": {
        "id": "F23mExcTYhyH",
        "colab_type": "code",
        "colab": {
          "base_uri": "https://localhost:8080/",
          "height": 53
        },
        "outputId": "2677fc1e-43ce-4107-ade2-3ded3b870a1e"
      },
      "source": [
        "# new confusion matrix (threshold of 0.3)\n",
        "print(metrics.confusion_matrix(y_test, y_pred_class_new))"
      ],
      "execution_count": null,
      "outputs": [
        {
          "output_type": "stream",
          "text": [
            "[[61951   130]\n",
            " [  559  5049]]\n"
          ],
          "name": "stdout"
        }
      ]
    },
    {
      "cell_type": "code",
      "metadata": {
        "id": "1TG5AKEoYhyL",
        "colab_type": "code",
        "colab": {
          "base_uri": "https://localhost:8080/",
          "height": 302
        },
        "outputId": "c6a2c924-edc9-4e29-e173-819d87d8eab1"
      },
      "source": [
        "fpr, tpr, thresholds = metrics.roc_curve(y_test, y_pred_prob)\n",
        "\n",
        "plt.plot(fpr, tpr)\n",
        "plt.xlim([0.0, 1.0])\n",
        "plt.ylim([0.0, 1.0])\n",
        "plt.rcParams['font.size'] = 12\n",
        "##Random FPR and TPR\n",
        "plt.plot([0, 1], [0, 1], color='red', lw=2, linestyle='--')\n",
        "plt.title('ROC curve ')\n",
        "plt.xlabel('False Positive Rate (1 - Specificity)')\n",
        "plt.ylabel('True Positive Rate (Sensitivity)')\n",
        "plt.grid(True)"
      ],
      "execution_count": null,
      "outputs": [
        {
          "output_type": "display_data",
          "data": {
            "image/png": "[encoded data removed]",
            "text/plain": [
              "<Figure size 432x288 with 1 Axes>"
            ]
          },
          "metadata": {
            "tags": [],
            "needs_background": "light"
          }
        }
      ]
    },
    {
      "cell_type": "code",
      "metadata": {
        "id": "-Pri1e5EYhyP",
        "colab_type": "code",
        "colab": {}
      },
      "source": [
        "# train a logistic regression model on the training set\n",
        "from sklearn.ensemble import RandomForestClassifier\n",
        "#Create a Gaussian Classifier\n",
        "clf=RandomForestClassifier(n_estimators=100)\n",
        "\n",
        "#Train the model using the training sets y_pred=clf.predict(X_test)\n",
        "clf.fit(X_train,y_train)\n",
        "\n",
        "y_pred=clf.predict(X_test)"
      ],
      "execution_count": null,
      "outputs": []
    },
    {
      "cell_type": "code",
      "metadata": {
        "id": "sMuEcPT5gPLu",
        "colab_type": "code",
        "colab": {
          "base_uri": "https://localhost:8080/",
          "height": 35
        },
        "outputId": "f70bd5bf-ff6f-4acd-d8c5-fc63aa016a82"
      },
      "source": [
        "print(\"Accuracy:\",metrics.accuracy_score(y_test, y_pred))"
      ],
      "execution_count": null,
      "outputs": [
        {
          "output_type": "stream",
          "text": [
            "Accuracy: 0.9952281759222326\n"
          ],
          "name": "stdout"
        }
      ]
    },
    {
      "cell_type": "code",
      "metadata": {
        "id": "zcQeL_y2gPyj",
        "colab_type": "code",
        "colab": {
          "base_uri": "https://localhost:8080/",
          "height": 215
        },
        "outputId": "762f0034-13dc-463b-855a-ceaa72c35f4e"
      },
      "source": [
        "pred=clf.predict(X_test)\n",
        "print(confusion_matrix(y_test,pred))\n",
        "print(classification_report(y_test,pred))"
      ],
      "execution_count": null,
      "outputs": [
        {
          "output_type": "stream",
          "text": [
            "[[62080     1]\n",
            " [  322  5286]]\n",
            "              precision    recall  f1-score   support\n",
            "\n",
            "           0       0.99      1.00      1.00     62081\n",
            "           1       1.00      0.94      0.97      5608\n",
            "\n",
            "    accuracy                           1.00     67689\n",
            "   macro avg       1.00      0.97      0.98     67689\n",
            "weighted avg       1.00      1.00      1.00     67689\n",
            "\n"
          ],
          "name": "stdout"
        }
      ]
    }
  ]
}